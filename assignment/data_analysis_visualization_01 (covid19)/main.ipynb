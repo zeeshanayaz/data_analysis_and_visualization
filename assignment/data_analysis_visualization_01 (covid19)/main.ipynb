{
 "cells": [
  {
   "cell_type": "code",
   "execution_count": 1,
   "id": "826a41a8-fb33-403e-a79d-73f6bb460367",
   "metadata": {},
   "outputs": [],
   "source": [
    "import pandas as pd"
   ]
  },
  {
   "cell_type": "markdown",
   "id": "164223ee-003c-4b42-b37e-37a3234de9f2",
   "metadata": {},
   "source": [
    "### 1. Load and Display Data → Read the dataset and print the first 5 rows."
   ]
  },
  {
   "cell_type": "code",
   "execution_count": 4,
   "id": "a3d903f0-e0d1-4221-83d0-bf499d6b39e8",
   "metadata": {},
   "outputs": [],
   "source": [
    "data = pd.read_csv(\"covid_19_country_wise_latest.csv\")"
   ]
  },
  {
   "cell_type": "code",
   "execution_count": 6,
   "id": "9e682a80-dd97-47b3-98b5-abda8eed29db",
   "metadata": {},
   "outputs": [
    {
     "data": {
      "text/html": [
       "<div>\n",
       "<style scoped>\n",
       "    .dataframe tbody tr th:only-of-type {\n",
       "        vertical-align: middle;\n",
       "    }\n",
       "\n",
       "    .dataframe tbody tr th {\n",
       "        vertical-align: top;\n",
       "    }\n",
       "\n",
       "    .dataframe thead th {\n",
       "        text-align: right;\n",
       "    }\n",
       "</style>\n",
       "<table border=\"1\" class=\"dataframe\">\n",
       "  <thead>\n",
       "    <tr style=\"text-align: right;\">\n",
       "      <th></th>\n",
       "      <th>Unnamed: 0</th>\n",
       "      <th>Country/Region</th>\n",
       "      <th>Confirmed</th>\n",
       "      <th>Deaths</th>\n",
       "      <th>Recovered</th>\n",
       "      <th>Active</th>\n",
       "      <th>New cases</th>\n",
       "      <th>New deaths</th>\n",
       "      <th>New recovered</th>\n",
       "      <th>Deaths / 100 Cases</th>\n",
       "      <th>Recovered / 100 Cases</th>\n",
       "      <th>Deaths / 100 Recovered</th>\n",
       "      <th>Confirmed last week</th>\n",
       "      <th>1 week change</th>\n",
       "      <th>1 week % increase</th>\n",
       "      <th>WHO Region</th>\n",
       "    </tr>\n",
       "  </thead>\n",
       "  <tbody>\n",
       "    <tr>\n",
       "      <th>0</th>\n",
       "      <td>0</td>\n",
       "      <td>Afghanistan</td>\n",
       "      <td>36263</td>\n",
       "      <td>1269</td>\n",
       "      <td>25198</td>\n",
       "      <td>9796</td>\n",
       "      <td>106.0</td>\n",
       "      <td>10.0</td>\n",
       "      <td>18</td>\n",
       "      <td>3.50</td>\n",
       "      <td>69.49</td>\n",
       "      <td>5.04</td>\n",
       "      <td>35526</td>\n",
       "      <td>737</td>\n",
       "      <td>2.07</td>\n",
       "      <td>Eastern Mediterranean</td>\n",
       "    </tr>\n",
       "    <tr>\n",
       "      <th>1</th>\n",
       "      <td>1</td>\n",
       "      <td>Albania</td>\n",
       "      <td>4880</td>\n",
       "      <td>144</td>\n",
       "      <td>2745</td>\n",
       "      <td>1991</td>\n",
       "      <td>117.0</td>\n",
       "      <td>6.0</td>\n",
       "      <td>63</td>\n",
       "      <td>2.95</td>\n",
       "      <td>56.25</td>\n",
       "      <td>5.25</td>\n",
       "      <td>4171</td>\n",
       "      <td>709</td>\n",
       "      <td>17.00</td>\n",
       "      <td>Europe</td>\n",
       "    </tr>\n",
       "    <tr>\n",
       "      <th>2</th>\n",
       "      <td>2</td>\n",
       "      <td>Algeria</td>\n",
       "      <td>27973</td>\n",
       "      <td>1163</td>\n",
       "      <td>18837</td>\n",
       "      <td>7973</td>\n",
       "      <td>616.0</td>\n",
       "      <td>8.0</td>\n",
       "      <td>749</td>\n",
       "      <td>4.16</td>\n",
       "      <td>67.34</td>\n",
       "      <td>6.17</td>\n",
       "      <td>23691</td>\n",
       "      <td>4282</td>\n",
       "      <td>18.07</td>\n",
       "      <td>Africa</td>\n",
       "    </tr>\n",
       "    <tr>\n",
       "      <th>3</th>\n",
       "      <td>3</td>\n",
       "      <td>Andorra</td>\n",
       "      <td>907</td>\n",
       "      <td>52</td>\n",
       "      <td>803</td>\n",
       "      <td>52</td>\n",
       "      <td>10.0</td>\n",
       "      <td>0.0</td>\n",
       "      <td>0</td>\n",
       "      <td>5.73</td>\n",
       "      <td>88.53</td>\n",
       "      <td>6.48</td>\n",
       "      <td>884</td>\n",
       "      <td>23</td>\n",
       "      <td>2.60</td>\n",
       "      <td>Europe</td>\n",
       "    </tr>\n",
       "    <tr>\n",
       "      <th>4</th>\n",
       "      <td>4</td>\n",
       "      <td>Angola</td>\n",
       "      <td>950</td>\n",
       "      <td>41</td>\n",
       "      <td>242</td>\n",
       "      <td>667</td>\n",
       "      <td>18.0</td>\n",
       "      <td>1.0</td>\n",
       "      <td>0</td>\n",
       "      <td>4.32</td>\n",
       "      <td>25.47</td>\n",
       "      <td>16.94</td>\n",
       "      <td>749</td>\n",
       "      <td>201</td>\n",
       "      <td>26.84</td>\n",
       "      <td>Africa</td>\n",
       "    </tr>\n",
       "  </tbody>\n",
       "</table>\n",
       "</div>"
      ],
      "text/plain": [
       "   Unnamed: 0 Country/Region  Confirmed Deaths  Recovered  Active  New cases  \\\n",
       "0           0    Afghanistan      36263   1269      25198    9796      106.0   \n",
       "1           1        Albania       4880    144       2745    1991      117.0   \n",
       "2           2        Algeria      27973   1163      18837    7973      616.0   \n",
       "3           3        Andorra        907     52        803      52       10.0   \n",
       "4           4         Angola        950     41        242     667       18.0   \n",
       "\n",
       "   New deaths  New recovered  Deaths / 100 Cases  Recovered / 100 Cases  \\\n",
       "0        10.0             18                3.50                  69.49   \n",
       "1         6.0             63                2.95                  56.25   \n",
       "2         8.0            749                4.16                  67.34   \n",
       "3         0.0              0                5.73                  88.53   \n",
       "4         1.0              0                4.32                  25.47   \n",
       "\n",
       "   Deaths / 100 Recovered  Confirmed last week  1 week change  \\\n",
       "0                    5.04                35526            737   \n",
       "1                    5.25                 4171            709   \n",
       "2                    6.17                23691           4282   \n",
       "3                    6.48                  884             23   \n",
       "4                   16.94                  749            201   \n",
       "\n",
       "   1 week % increase             WHO Region  \n",
       "0               2.07  Eastern Mediterranean  \n",
       "1              17.00                 Europe  \n",
       "2              18.07                 Africa  \n",
       "3               2.60                 Europe  \n",
       "4              26.84                 Africa  "
      ]
     },
     "execution_count": 6,
     "metadata": {},
     "output_type": "execute_result"
    }
   ],
   "source": [
    "data.head()"
   ]
  },
  {
   "cell_type": "markdown",
   "id": "c632d6f9-5edc-4ac4-8ceb-9f199655f500",
   "metadata": {},
   "source": [
    "### 2. Set the Dataset index is Unnamed: 0"
   ]
  },
  {
   "cell_type": "code",
   "execution_count": 9,
   "id": "8d2f0eeb-2140-4c62-b11e-f094e5f65e42",
   "metadata": {},
   "outputs": [],
   "source": [
    "data.set_index(\"Unnamed: 0\", inplace=True)"
   ]
  },
  {
   "cell_type": "code",
   "execution_count": 11,
   "id": "0b97959d-d28e-4743-b95b-70e741d1dbbc",
   "metadata": {},
   "outputs": [
    {
     "data": {
      "text/html": [
       "<div>\n",
       "<style scoped>\n",
       "    .dataframe tbody tr th:only-of-type {\n",
       "        vertical-align: middle;\n",
       "    }\n",
       "\n",
       "    .dataframe tbody tr th {\n",
       "        vertical-align: top;\n",
       "    }\n",
       "\n",
       "    .dataframe thead th {\n",
       "        text-align: right;\n",
       "    }\n",
       "</style>\n",
       "<table border=\"1\" class=\"dataframe\">\n",
       "  <thead>\n",
       "    <tr style=\"text-align: right;\">\n",
       "      <th></th>\n",
       "      <th>Country/Region</th>\n",
       "      <th>Confirmed</th>\n",
       "      <th>Deaths</th>\n",
       "      <th>Recovered</th>\n",
       "      <th>Active</th>\n",
       "      <th>New cases</th>\n",
       "      <th>New deaths</th>\n",
       "      <th>New recovered</th>\n",
       "      <th>Deaths / 100 Cases</th>\n",
       "      <th>Recovered / 100 Cases</th>\n",
       "      <th>Deaths / 100 Recovered</th>\n",
       "      <th>Confirmed last week</th>\n",
       "      <th>1 week change</th>\n",
       "      <th>1 week % increase</th>\n",
       "      <th>WHO Region</th>\n",
       "    </tr>\n",
       "    <tr>\n",
       "      <th>Unnamed: 0</th>\n",
       "      <th></th>\n",
       "      <th></th>\n",
       "      <th></th>\n",
       "      <th></th>\n",
       "      <th></th>\n",
       "      <th></th>\n",
       "      <th></th>\n",
       "      <th></th>\n",
       "      <th></th>\n",
       "      <th></th>\n",
       "      <th></th>\n",
       "      <th></th>\n",
       "      <th></th>\n",
       "      <th></th>\n",
       "      <th></th>\n",
       "    </tr>\n",
       "  </thead>\n",
       "  <tbody>\n",
       "    <tr>\n",
       "      <th>0</th>\n",
       "      <td>Afghanistan</td>\n",
       "      <td>36263</td>\n",
       "      <td>1269</td>\n",
       "      <td>25198</td>\n",
       "      <td>9796</td>\n",
       "      <td>106.0</td>\n",
       "      <td>10.0</td>\n",
       "      <td>18</td>\n",
       "      <td>3.50</td>\n",
       "      <td>69.49</td>\n",
       "      <td>5.04</td>\n",
       "      <td>35526</td>\n",
       "      <td>737</td>\n",
       "      <td>2.07</td>\n",
       "      <td>Eastern Mediterranean</td>\n",
       "    </tr>\n",
       "    <tr>\n",
       "      <th>1</th>\n",
       "      <td>Albania</td>\n",
       "      <td>4880</td>\n",
       "      <td>144</td>\n",
       "      <td>2745</td>\n",
       "      <td>1991</td>\n",
       "      <td>117.0</td>\n",
       "      <td>6.0</td>\n",
       "      <td>63</td>\n",
       "      <td>2.95</td>\n",
       "      <td>56.25</td>\n",
       "      <td>5.25</td>\n",
       "      <td>4171</td>\n",
       "      <td>709</td>\n",
       "      <td>17.00</td>\n",
       "      <td>Europe</td>\n",
       "    </tr>\n",
       "    <tr>\n",
       "      <th>2</th>\n",
       "      <td>Algeria</td>\n",
       "      <td>27973</td>\n",
       "      <td>1163</td>\n",
       "      <td>18837</td>\n",
       "      <td>7973</td>\n",
       "      <td>616.0</td>\n",
       "      <td>8.0</td>\n",
       "      <td>749</td>\n",
       "      <td>4.16</td>\n",
       "      <td>67.34</td>\n",
       "      <td>6.17</td>\n",
       "      <td>23691</td>\n",
       "      <td>4282</td>\n",
       "      <td>18.07</td>\n",
       "      <td>Africa</td>\n",
       "    </tr>\n",
       "    <tr>\n",
       "      <th>3</th>\n",
       "      <td>Andorra</td>\n",
       "      <td>907</td>\n",
       "      <td>52</td>\n",
       "      <td>803</td>\n",
       "      <td>52</td>\n",
       "      <td>10.0</td>\n",
       "      <td>0.0</td>\n",
       "      <td>0</td>\n",
       "      <td>5.73</td>\n",
       "      <td>88.53</td>\n",
       "      <td>6.48</td>\n",
       "      <td>884</td>\n",
       "      <td>23</td>\n",
       "      <td>2.60</td>\n",
       "      <td>Europe</td>\n",
       "    </tr>\n",
       "    <tr>\n",
       "      <th>4</th>\n",
       "      <td>Angola</td>\n",
       "      <td>950</td>\n",
       "      <td>41</td>\n",
       "      <td>242</td>\n",
       "      <td>667</td>\n",
       "      <td>18.0</td>\n",
       "      <td>1.0</td>\n",
       "      <td>0</td>\n",
       "      <td>4.32</td>\n",
       "      <td>25.47</td>\n",
       "      <td>16.94</td>\n",
       "      <td>749</td>\n",
       "      <td>201</td>\n",
       "      <td>26.84</td>\n",
       "      <td>Africa</td>\n",
       "    </tr>\n",
       "  </tbody>\n",
       "</table>\n",
       "</div>"
      ],
      "text/plain": [
       "           Country/Region  Confirmed Deaths  Recovered  Active  New cases  \\\n",
       "Unnamed: 0                                                                  \n",
       "0             Afghanistan      36263   1269      25198    9796      106.0   \n",
       "1                 Albania       4880    144       2745    1991      117.0   \n",
       "2                 Algeria      27973   1163      18837    7973      616.0   \n",
       "3                 Andorra        907     52        803      52       10.0   \n",
       "4                  Angola        950     41        242     667       18.0   \n",
       "\n",
       "            New deaths  New recovered  Deaths / 100 Cases  \\\n",
       "Unnamed: 0                                                  \n",
       "0                 10.0             18                3.50   \n",
       "1                  6.0             63                2.95   \n",
       "2                  8.0            749                4.16   \n",
       "3                  0.0              0                5.73   \n",
       "4                  1.0              0                4.32   \n",
       "\n",
       "            Recovered / 100 Cases  Deaths / 100 Recovered  \\\n",
       "Unnamed: 0                                                  \n",
       "0                           69.49                    5.04   \n",
       "1                           56.25                    5.25   \n",
       "2                           67.34                    6.17   \n",
       "3                           88.53                    6.48   \n",
       "4                           25.47                   16.94   \n",
       "\n",
       "            Confirmed last week  1 week change  1 week % increase  \\\n",
       "Unnamed: 0                                                          \n",
       "0                         35526            737               2.07   \n",
       "1                          4171            709              17.00   \n",
       "2                         23691           4282              18.07   \n",
       "3                           884             23               2.60   \n",
       "4                           749            201              26.84   \n",
       "\n",
       "                       WHO Region  \n",
       "Unnamed: 0                         \n",
       "0           Eastern Mediterranean  \n",
       "1                          Europe  \n",
       "2                          Africa  \n",
       "3                          Europe  \n",
       "4                          Africa  "
      ]
     },
     "execution_count": 11,
     "metadata": {},
     "output_type": "execute_result"
    }
   ],
   "source": [
    "data.head()"
   ]
  },
  {
   "cell_type": "code",
   "execution_count": 13,
   "id": "d78c3b6c-18c9-4541-997a-61eadb55f39b",
   "metadata": {},
   "outputs": [
    {
     "data": {
      "text/plain": [
       "(187, 15)"
      ]
     },
     "execution_count": 13,
     "metadata": {},
     "output_type": "execute_result"
    }
   ],
   "source": [
    "data.shape"
   ]
  },
  {
   "cell_type": "markdown",
   "id": "2bffd0a3-02b2-4ac1-bc57-09ec7f000dac",
   "metadata": {},
   "source": [
    "### 4. Create Function that take dataset columns and replace whitespace with Underscore and update dataset automatically and the pass the dataset."
   ]
  },
  {
   "cell_type": "code",
   "execution_count": 16,
   "id": "1ffc1915-52d0-4351-b568-fdb9fed51954",
   "metadata": {},
   "outputs": [],
   "source": [
    "def clean_column_names(df):\n",
    "    df.columns = df.columns.str.replace(r'\\s+', '_', regex=True)\n",
    "    return df"
   ]
  },
  {
   "cell_type": "code",
   "execution_count": 18,
   "id": "c884d50f-da2d-4174-8f66-4bc89ecf7886",
   "metadata": {},
   "outputs": [],
   "source": [
    "data = clean_column_names(data)"
   ]
  },
  {
   "cell_type": "code",
   "execution_count": 20,
   "id": "127eb322-0125-493d-86df-0c05a0a8ca45",
   "metadata": {},
   "outputs": [
    {
     "data": {
      "text/plain": [
       "Index(['Country/Region', 'Confirmed', 'Deaths', 'Recovered', 'Active',\n",
       "       'New_cases', 'New_deaths', 'New_recovered', 'Deaths_/_100_Cases',\n",
       "       'Recovered_/_100_Cases', 'Deaths_/_100_Recovered',\n",
       "       'Confirmed_last_week', '1_week_change', '1_week_%_increase',\n",
       "       'WHO_Region'],\n",
       "      dtype='object')"
      ]
     },
     "execution_count": 20,
     "metadata": {},
     "output_type": "execute_result"
    }
   ],
   "source": [
    "data.columns"
   ]
  },
  {
   "cell_type": "markdown",
   "id": "2d5cb89a-5ccf-4602-9214-2d8de8b262b0",
   "metadata": {},
   "source": [
    "### 5. Check Basic Information → Find column names, data types, and missing values."
   ]
  },
  {
   "cell_type": "code",
   "execution_count": 23,
   "id": "1906efa6-743c-4209-8169-4227e7fdc81b",
   "metadata": {},
   "outputs": [
    {
     "data": {
      "text/plain": [
       "Index(['Country/Region', 'Confirmed', 'Deaths', 'Recovered', 'Active',\n",
       "       'New_cases', 'New_deaths', 'New_recovered', 'Deaths_/_100_Cases',\n",
       "       'Recovered_/_100_Cases', 'Deaths_/_100_Recovered',\n",
       "       'Confirmed_last_week', '1_week_change', '1_week_%_increase',\n",
       "       'WHO_Region'],\n",
       "      dtype='object')"
      ]
     },
     "execution_count": 23,
     "metadata": {},
     "output_type": "execute_result"
    }
   ],
   "source": [
    "data.columns"
   ]
  },
  {
   "cell_type": "code",
   "execution_count": 25,
   "id": "55627f08-7d3d-469f-8d21-f13b3cfc1bfc",
   "metadata": {},
   "outputs": [
    {
     "data": {
      "text/plain": [
       "Country/Region             object\n",
       "Confirmed                   int64\n",
       "Deaths                     object\n",
       "Recovered                   int64\n",
       "Active                      int64\n",
       "New_cases                 float64\n",
       "New_deaths                float64\n",
       "New_recovered               int64\n",
       "Deaths_/_100_Cases        float64\n",
       "Recovered_/_100_Cases     float64\n",
       "Deaths_/_100_Recovered    float64\n",
       "Confirmed_last_week         int64\n",
       "1_week_change               int64\n",
       "1_week_%_increase         float64\n",
       "WHO_Region                 object\n",
       "dtype: object"
      ]
     },
     "execution_count": 25,
     "metadata": {},
     "output_type": "execute_result"
    }
   ],
   "source": [
    "data.dtypes"
   ]
  },
  {
   "cell_type": "code",
   "execution_count": 27,
   "id": "0c80e8c3-2dcd-426d-b203-f1466cd3b0bf",
   "metadata": {},
   "outputs": [
    {
     "data": {
      "text/plain": [
       "Country/Region             0\n",
       "Confirmed                  0\n",
       "Deaths                     0\n",
       "Recovered                  0\n",
       "Active                     0\n",
       "New_cases                 10\n",
       "New_deaths                10\n",
       "New_recovered              0\n",
       "Deaths_/_100_Cases         0\n",
       "Recovered_/_100_Cases      0\n",
       "Deaths_/_100_Recovered     0\n",
       "Confirmed_last_week        0\n",
       "1_week_change              0\n",
       "1_week_%_increase          0\n",
       "WHO_Region                 0\n",
       "dtype: int64"
      ]
     },
     "execution_count": 27,
     "metadata": {},
     "output_type": "execute_result"
    }
   ],
   "source": [
    "data.isnull().sum()"
   ]
  },
  {
   "cell_type": "code",
   "execution_count": 29,
   "id": "1b565955-c9d9-436b-b4f8-4b4c5f87fcc0",
   "metadata": {},
   "outputs": [
    {
     "name": "stdout",
     "output_type": "stream",
     "text": [
      "<class 'pandas.core.frame.DataFrame'>\n",
      "Index: 187 entries, 0 to 186\n",
      "Data columns (total 15 columns):\n",
      " #   Column                  Non-Null Count  Dtype  \n",
      "---  ------                  --------------  -----  \n",
      " 0   Country/Region          187 non-null    object \n",
      " 1   Confirmed               187 non-null    int64  \n",
      " 2   Deaths                  187 non-null    object \n",
      " 3   Recovered               187 non-null    int64  \n",
      " 4   Active                  187 non-null    int64  \n",
      " 5   New_cases               177 non-null    float64\n",
      " 6   New_deaths              177 non-null    float64\n",
      " 7   New_recovered           187 non-null    int64  \n",
      " 8   Deaths_/_100_Cases      187 non-null    float64\n",
      " 9   Recovered_/_100_Cases   187 non-null    float64\n",
      " 10  Deaths_/_100_Recovered  187 non-null    float64\n",
      " 11  Confirmed_last_week     187 non-null    int64  \n",
      " 12  1_week_change           187 non-null    int64  \n",
      " 13  1_week_%_increase       187 non-null    float64\n",
      " 14  WHO_Region              187 non-null    object \n",
      "dtypes: float64(6), int64(6), object(3)\n",
      "memory usage: 23.4+ KB\n"
     ]
    }
   ],
   "source": [
    "data.info()"
   ]
  },
  {
   "cell_type": "code",
   "execution_count": 31,
   "id": "b7bc57ef-3170-4f54-a5ef-cd1fc44257d8",
   "metadata": {},
   "outputs": [
    {
     "data": {
      "text/html": [
       "<div>\n",
       "<style scoped>\n",
       "    .dataframe tbody tr th:only-of-type {\n",
       "        vertical-align: middle;\n",
       "    }\n",
       "\n",
       "    .dataframe tbody tr th {\n",
       "        vertical-align: top;\n",
       "    }\n",
       "\n",
       "    .dataframe thead th {\n",
       "        text-align: right;\n",
       "    }\n",
       "</style>\n",
       "<table border=\"1\" class=\"dataframe\">\n",
       "  <thead>\n",
       "    <tr style=\"text-align: right;\">\n",
       "      <th></th>\n",
       "      <th>Country/Region</th>\n",
       "      <th>Confirmed</th>\n",
       "      <th>Deaths</th>\n",
       "      <th>Recovered</th>\n",
       "      <th>Active</th>\n",
       "      <th>New_cases</th>\n",
       "      <th>New_deaths</th>\n",
       "      <th>New_recovered</th>\n",
       "      <th>Deaths_/_100_Cases</th>\n",
       "      <th>Recovered_/_100_Cases</th>\n",
       "      <th>Deaths_/_100_Recovered</th>\n",
       "      <th>Confirmed_last_week</th>\n",
       "      <th>1_week_change</th>\n",
       "      <th>1_week_%_increase</th>\n",
       "      <th>WHO_Region</th>\n",
       "    </tr>\n",
       "    <tr>\n",
       "      <th>Unnamed: 0</th>\n",
       "      <th></th>\n",
       "      <th></th>\n",
       "      <th></th>\n",
       "      <th></th>\n",
       "      <th></th>\n",
       "      <th></th>\n",
       "      <th></th>\n",
       "      <th></th>\n",
       "      <th></th>\n",
       "      <th></th>\n",
       "      <th></th>\n",
       "      <th></th>\n",
       "      <th></th>\n",
       "      <th></th>\n",
       "      <th></th>\n",
       "    </tr>\n",
       "  </thead>\n",
       "  <tbody>\n",
       "    <tr>\n",
       "      <th>0</th>\n",
       "      <td>Afghanistan</td>\n",
       "      <td>36263</td>\n",
       "      <td>1269</td>\n",
       "      <td>25198</td>\n",
       "      <td>9796</td>\n",
       "      <td>106.0</td>\n",
       "      <td>10.0</td>\n",
       "      <td>18</td>\n",
       "      <td>3.5</td>\n",
       "      <td>69.49</td>\n",
       "      <td>5.04</td>\n",
       "      <td>35526</td>\n",
       "      <td>737</td>\n",
       "      <td>2.07</td>\n",
       "      <td>Eastern Mediterranean</td>\n",
       "    </tr>\n",
       "  </tbody>\n",
       "</table>\n",
       "</div>"
      ],
      "text/plain": [
       "           Country/Region  Confirmed Deaths  Recovered  Active  New_cases  \\\n",
       "Unnamed: 0                                                                  \n",
       "0             Afghanistan      36263   1269      25198    9796      106.0   \n",
       "\n",
       "            New_deaths  New_recovered  Deaths_/_100_Cases  \\\n",
       "Unnamed: 0                                                  \n",
       "0                 10.0             18                 3.5   \n",
       "\n",
       "            Recovered_/_100_Cases  Deaths_/_100_Recovered  \\\n",
       "Unnamed: 0                                                  \n",
       "0                           69.49                    5.04   \n",
       "\n",
       "            Confirmed_last_week  1_week_change  1_week_%_increase  \\\n",
       "Unnamed: 0                                                          \n",
       "0                         35526            737               2.07   \n",
       "\n",
       "                       WHO_Region  \n",
       "Unnamed: 0                         \n",
       "0           Eastern Mediterranean  "
      ]
     },
     "execution_count": 31,
     "metadata": {},
     "output_type": "execute_result"
    }
   ],
   "source": [
    "data.head(1)"
   ]
  },
  {
   "cell_type": "markdown",
   "id": "beea273a-b94d-4f86-8c12-1b4d94c40cec",
   "metadata": {},
   "source": [
    "### 6. fill the nan values with the mean of the column"
   ]
  },
  {
   "cell_type": "code",
   "execution_count": 34,
   "id": "d349563a-4092-4952-a4bb-b11a83a98005",
   "metadata": {},
   "outputs": [
    {
     "data": {
      "text/plain": [
       "Country/Region             0\n",
       "Confirmed                  0\n",
       "Deaths                     0\n",
       "Recovered                  0\n",
       "Active                     0\n",
       "New_cases                 10\n",
       "New_deaths                10\n",
       "New_recovered              0\n",
       "Deaths_/_100_Cases         0\n",
       "Recovered_/_100_Cases      0\n",
       "Deaths_/_100_Recovered     0\n",
       "Confirmed_last_week        0\n",
       "1_week_change              0\n",
       "1_week_%_increase          0\n",
       "WHO_Region                 0\n",
       "dtype: int64"
      ]
     },
     "execution_count": 34,
     "metadata": {},
     "output_type": "execute_result"
    }
   ],
   "source": [
    "data.isnull().sum()"
   ]
  },
  {
   "cell_type": "code",
   "execution_count": 36,
   "id": "8dfbe2d0-7a9a-40e1-b88d-bc20ded935a5",
   "metadata": {},
   "outputs": [
    {
     "name": "stderr",
     "output_type": "stream",
     "text": [
      "/var/folders/nc/gkw7lk6554ncxbkqnml3hxt4njybhy/T/ipykernel_3136/1332107099.py:1: FutureWarning: A value is trying to be set on a copy of a DataFrame or Series through chained assignment using an inplace method.\n",
      "The behavior will change in pandas 3.0. This inplace method will never work because the intermediate object on which we are setting values always behaves as a copy.\n",
      "\n",
      "For example, when doing 'df[col].method(value, inplace=True)', try using 'df.method({col: value}, inplace=True)' or df[col] = df[col].method(value) instead, to perform the operation inplace on the original object.\n",
      "\n",
      "\n",
      "  data.New_cases.fillna(data.New_cases.mean(), inplace=True)\n"
     ]
    }
   ],
   "source": [
    "data.New_cases.fillna(data.New_cases.mean(), inplace=True)"
   ]
  },
  {
   "cell_type": "code",
   "execution_count": 38,
   "id": "3db3a048-f45b-48a5-a375-fcf1f18af140",
   "metadata": {},
   "outputs": [
    {
     "data": {
      "text/plain": [
       "Country/Region             0\n",
       "Confirmed                  0\n",
       "Deaths                     0\n",
       "Recovered                  0\n",
       "Active                     0\n",
       "New_cases                  0\n",
       "New_deaths                10\n",
       "New_recovered              0\n",
       "Deaths_/_100_Cases         0\n",
       "Recovered_/_100_Cases      0\n",
       "Deaths_/_100_Recovered     0\n",
       "Confirmed_last_week        0\n",
       "1_week_change              0\n",
       "1_week_%_increase          0\n",
       "WHO_Region                 0\n",
       "dtype: int64"
      ]
     },
     "execution_count": 38,
     "metadata": {},
     "output_type": "execute_result"
    }
   ],
   "source": [
    "data.isnull().sum()"
   ]
  },
  {
   "cell_type": "code",
   "execution_count": 40,
   "id": "3eecca4d-a3ce-4ab7-8af9-4fad5f9b96e3",
   "metadata": {},
   "outputs": [
    {
     "name": "stderr",
     "output_type": "stream",
     "text": [
      "/var/folders/nc/gkw7lk6554ncxbkqnml3hxt4njybhy/T/ipykernel_3136/471593113.py:1: FutureWarning: A value is trying to be set on a copy of a DataFrame or Series through chained assignment using an inplace method.\n",
      "The behavior will change in pandas 3.0. This inplace method will never work because the intermediate object on which we are setting values always behaves as a copy.\n",
      "\n",
      "For example, when doing 'df[col].method(value, inplace=True)', try using 'df.method({col: value}, inplace=True)' or df[col] = df[col].method(value) instead, to perform the operation inplace on the original object.\n",
      "\n",
      "\n",
      "  data.New_deaths.fillna(data.New_deaths.mean(), inplace=True)\n"
     ]
    }
   ],
   "source": [
    "data.New_deaths.fillna(data.New_deaths.mean(), inplace=True)"
   ]
  },
  {
   "cell_type": "code",
   "execution_count": 42,
   "id": "de9e50a5-00b4-429d-bde0-d58fb584ba88",
   "metadata": {},
   "outputs": [
    {
     "data": {
      "text/plain": [
       "Country/Region            0\n",
       "Confirmed                 0\n",
       "Deaths                    0\n",
       "Recovered                 0\n",
       "Active                    0\n",
       "New_cases                 0\n",
       "New_deaths                0\n",
       "New_recovered             0\n",
       "Deaths_/_100_Cases        0\n",
       "Recovered_/_100_Cases     0\n",
       "Deaths_/_100_Recovered    0\n",
       "Confirmed_last_week       0\n",
       "1_week_change             0\n",
       "1_week_%_increase         0\n",
       "WHO_Region                0\n",
       "dtype: int64"
      ]
     },
     "execution_count": 42,
     "metadata": {},
     "output_type": "execute_result"
    }
   ],
   "source": [
    "data.isnull().sum()"
   ]
  },
  {
   "cell_type": "markdown",
   "id": "49e11206-572d-43bf-a798-bea829ccbd56",
   "metadata": {},
   "source": [
    "### 7. Count the number of unique countries in the dataset."
   ]
  },
  {
   "cell_type": "code",
   "execution_count": 45,
   "id": "84e14d24-59f1-42b0-88d7-df08931f1020",
   "metadata": {},
   "outputs": [
    {
     "data": {
      "text/plain": [
       "Country/Region\n",
       "Afghanistan    1\n",
       "Pakistan       1\n",
       "Nepal          1\n",
       "Netherlands    1\n",
       "New Zealand    1\n",
       "              ..\n",
       "Georgia        1\n",
       "Germany        1\n",
       "Ghana          1\n",
       "Greece         1\n",
       "Zimbabwe       1\n",
       "Name: count, Length: 187, dtype: int64"
      ]
     },
     "execution_count": 45,
     "metadata": {},
     "output_type": "execute_result"
    }
   ],
   "source": [
    "data['Country/Region'].value_counts()"
   ]
  },
  {
   "cell_type": "code",
   "execution_count": 47,
   "id": "39d739a2-c313-47e7-bda8-2b72f7d16a9e",
   "metadata": {},
   "outputs": [
    {
     "data": {
      "text/plain": [
       "187"
      ]
     },
     "execution_count": 47,
     "metadata": {},
     "output_type": "execute_result"
    }
   ],
   "source": [
    "data['Country/Region'].nunique()"
   ]
  },
  {
   "cell_type": "markdown",
   "id": "07f633ff-3deb-4e02-ba03-d946e33026ba",
   "metadata": {},
   "source": [
    "### 8. Check if there are any duplicate country entries and remove them if needed."
   ]
  },
  {
   "cell_type": "code",
   "execution_count": 50,
   "id": "f8c16162-aa75-49fc-a4b5-e1608b2b6242",
   "metadata": {},
   "outputs": [
    {
     "data": {
      "text/plain": [
       "(187, 15)"
      ]
     },
     "execution_count": 50,
     "metadata": {},
     "output_type": "execute_result"
    }
   ],
   "source": [
    "data.shape"
   ]
  },
  {
   "cell_type": "code",
   "execution_count": 52,
   "id": "745788d4-fe0b-41fd-985b-182413a69768",
   "metadata": {},
   "outputs": [],
   "source": [
    "# Has 187 entries and unique coun i also 187 so there would be no duplicates"
   ]
  },
  {
   "cell_type": "markdown",
   "id": "a1a5fd32-4c96-4cf8-8a09-6117dfaa017f",
   "metadata": {},
   "source": [
    "### 9. Find the mean, median, and standard deviation of total cases."
   ]
  },
  {
   "cell_type": "code",
   "execution_count": 55,
   "id": "b63042fd-8ffe-45c8-ab78-d4fe244b344e",
   "metadata": {},
   "outputs": [
    {
     "data": {
      "text/plain": [
       "Index(['Country/Region', 'Confirmed', 'Deaths', 'Recovered', 'Active',\n",
       "       'New_cases', 'New_deaths', 'New_recovered', 'Deaths_/_100_Cases',\n",
       "       'Recovered_/_100_Cases', 'Deaths_/_100_Recovered',\n",
       "       'Confirmed_last_week', '1_week_change', '1_week_%_increase',\n",
       "       'WHO_Region'],\n",
       "      dtype='object')"
      ]
     },
     "execution_count": 55,
     "metadata": {},
     "output_type": "execute_result"
    }
   ],
   "source": [
    "data.columns"
   ]
  },
  {
   "cell_type": "code",
   "execution_count": 57,
   "id": "37a19ef1-ea13-4437-b0fe-a30bf7f62225",
   "metadata": {},
   "outputs": [
    {
     "data": {
      "text/html": [
       "<div>\n",
       "<style scoped>\n",
       "    .dataframe tbody tr th:only-of-type {\n",
       "        vertical-align: middle;\n",
       "    }\n",
       "\n",
       "    .dataframe tbody tr th {\n",
       "        vertical-align: top;\n",
       "    }\n",
       "\n",
       "    .dataframe thead th {\n",
       "        text-align: right;\n",
       "    }\n",
       "</style>\n",
       "<table border=\"1\" class=\"dataframe\">\n",
       "  <thead>\n",
       "    <tr style=\"text-align: right;\">\n",
       "      <th></th>\n",
       "      <th>Country/Region</th>\n",
       "      <th>Confirmed</th>\n",
       "      <th>Deaths</th>\n",
       "      <th>Recovered</th>\n",
       "      <th>Active</th>\n",
       "      <th>New_cases</th>\n",
       "      <th>New_deaths</th>\n",
       "      <th>New_recovered</th>\n",
       "      <th>Deaths_/_100_Cases</th>\n",
       "      <th>Recovered_/_100_Cases</th>\n",
       "      <th>Deaths_/_100_Recovered</th>\n",
       "      <th>Confirmed_last_week</th>\n",
       "      <th>1_week_change</th>\n",
       "      <th>1_week_%_increase</th>\n",
       "      <th>WHO_Region</th>\n",
       "    </tr>\n",
       "    <tr>\n",
       "      <th>Unnamed: 0</th>\n",
       "      <th></th>\n",
       "      <th></th>\n",
       "      <th></th>\n",
       "      <th></th>\n",
       "      <th></th>\n",
       "      <th></th>\n",
       "      <th></th>\n",
       "      <th></th>\n",
       "      <th></th>\n",
       "      <th></th>\n",
       "      <th></th>\n",
       "      <th></th>\n",
       "      <th></th>\n",
       "      <th></th>\n",
       "      <th></th>\n",
       "    </tr>\n",
       "  </thead>\n",
       "  <tbody>\n",
       "    <tr>\n",
       "      <th>0</th>\n",
       "      <td>Afghanistan</td>\n",
       "      <td>36263</td>\n",
       "      <td>1269</td>\n",
       "      <td>25198</td>\n",
       "      <td>9796</td>\n",
       "      <td>106.0</td>\n",
       "      <td>10.0</td>\n",
       "      <td>18</td>\n",
       "      <td>3.5</td>\n",
       "      <td>69.49</td>\n",
       "      <td>5.04</td>\n",
       "      <td>35526</td>\n",
       "      <td>737</td>\n",
       "      <td>2.07</td>\n",
       "      <td>Eastern Mediterranean</td>\n",
       "    </tr>\n",
       "  </tbody>\n",
       "</table>\n",
       "</div>"
      ],
      "text/plain": [
       "           Country/Region  Confirmed Deaths  Recovered  Active  New_cases  \\\n",
       "Unnamed: 0                                                                  \n",
       "0             Afghanistan      36263   1269      25198    9796      106.0   \n",
       "\n",
       "            New_deaths  New_recovered  Deaths_/_100_Cases  \\\n",
       "Unnamed: 0                                                  \n",
       "0                 10.0             18                 3.5   \n",
       "\n",
       "            Recovered_/_100_Cases  Deaths_/_100_Recovered  \\\n",
       "Unnamed: 0                                                  \n",
       "0                           69.49                    5.04   \n",
       "\n",
       "            Confirmed_last_week  1_week_change  1_week_%_increase  \\\n",
       "Unnamed: 0                                                          \n",
       "0                         35526            737               2.07   \n",
       "\n",
       "                       WHO_Region  \n",
       "Unnamed: 0                         \n",
       "0           Eastern Mediterranean  "
      ]
     },
     "execution_count": 57,
     "metadata": {},
     "output_type": "execute_result"
    }
   ],
   "source": [
    "data.head(1)"
   ]
  },
  {
   "cell_type": "code",
   "execution_count": 59,
   "id": "0e953502-c38e-4603-8fc0-fdaaafa5b03c",
   "metadata": {},
   "outputs": [
    {
     "data": {
      "text/plain": [
       "88130.935828877"
      ]
     },
     "execution_count": 59,
     "metadata": {},
     "output_type": "execute_result"
    }
   ],
   "source": [
    "# No column  with name Total Cases\n",
    "# Considering Confirmed column as Total Cases\n",
    "\n",
    "data.Confirmed.mean()"
   ]
  },
  {
   "cell_type": "code",
   "execution_count": 61,
   "id": "d426e62c-3c10-41e8-bedf-7ed5abff42d1",
   "metadata": {},
   "outputs": [
    {
     "data": {
      "text/plain": [
       "5059.0"
      ]
     },
     "execution_count": 61,
     "metadata": {},
     "output_type": "execute_result"
    }
   ],
   "source": [
    "data.Confirmed.median()"
   ]
  },
  {
   "cell_type": "code",
   "execution_count": 63,
   "id": "47610b64-f098-42fd-a246-3faac44be737",
   "metadata": {},
   "outputs": [
    {
     "data": {
      "text/plain": [
       "383318.66383061546"
      ]
     },
     "execution_count": 63,
     "metadata": {},
     "output_type": "execute_result"
    }
   ],
   "source": [
    "data.Confirmed.std()"
   ]
  },
  {
   "cell_type": "markdown",
   "id": "869c312c-4bde-451a-891c-2951151caa5a",
   "metadata": {},
   "source": [
    "### 10. Find out the string in Deaths Column and replace it with the mean of Deaths column."
   ]
  },
  {
   "cell_type": "code",
   "execution_count": 66,
   "id": "9efc95c7-30a9-43d2-b6b4-807c5b1bd736",
   "metadata": {},
   "outputs": [
    {
     "data": {
      "text/plain": [
       "Deaths\n",
       "0       17\n",
       "11       4\n",
       "1        3\n",
       "10       3\n",
       "2        3\n",
       "        ..\n",
       "408      1\n",
       "4652     1\n",
       "5532     1\n",
       "1083     1\n",
       "non      1\n",
       "Name: count, Length: 150, dtype: int64"
      ]
     },
     "execution_count": 66,
     "metadata": {},
     "output_type": "execute_result"
    }
   ],
   "source": [
    "data.Deaths.value_counts()"
   ]
  },
  {
   "cell_type": "code",
   "execution_count": 68,
   "id": "7cc1ea3d-fefb-4a15-bcd3-15e41b8e3ae2",
   "metadata": {},
   "outputs": [
    {
     "data": {
      "text/plain": [
       "array(['1269', '144', '1163', '52', '41', '3', '3059', '711', '167',\n",
       "       '713', '423', '11', '141', '2965', '7', '538', '9822', '2', '35',\n",
       "       '0', '2647', '294', '87618', '347', '53', '6', '1', '22', '391',\n",
       "       '8944', '59', '75', '9187', '4656', '8777', '54', '208', '115',\n",
       "       '96', '139', '87', '19', '373', '613', '58', '1083', '5532',\n",
       "       '4652', '408', '51', '69', '34', '228', '329', '30212', '49', '8',\n",
       "       '16', '9125', '168', '202', '1761', '45', '26', '20', '158',\n",
       "       '1166', '596', '10', '33408', '4838', '15912', '4458', '1764',\n",
       "       '474', '35112', '998', '585', '285', '185', '438', '1301', '31',\n",
       "       '12', '72', '64', '80', '112', '91', '99', '124', '15', '9', '156',\n",
       "       '44022', '748', '4', '316', '48', '6160', '108', '860', '466',\n",
       "       '255', '393', '5842', '1322', '43', '18418', '1945', '1676',\n",
       "       '1719', '165', '2206', '13334', '5', '42', '14', '2760', '194',\n",
       "       '543', '66', '27', '28', '116', '93', '7067', '300', '46', '28432',\n",
       "       '720', '24', '5700', '1978', '40', '60', '21', '18', '50', '5630',\n",
       "       '148011', '1636', '345', '45844', '121', '146', '78', '483', '140',\n",
       "       'non'], dtype=object)"
      ]
     },
     "execution_count": 68,
     "metadata": {},
     "output_type": "execute_result"
    }
   ],
   "source": [
    "data.Deaths.unique()"
   ]
  },
  {
   "cell_type": "code",
   "execution_count": 72,
   "id": "40e73426-e426-42bc-9ddc-82b4f7c914a5",
   "metadata": {},
   "outputs": [],
   "source": [
    "data['Deaths'] = pd.to_numeric(data['Deaths'], errors='coerce')"
   ]
  },
  {
   "cell_type": "code",
   "execution_count": 76,
   "id": "cd02ec79-d8e0-4a72-b198-e4d4ee27f079",
   "metadata": {},
   "outputs": [],
   "source": [
    "data['Deaths'].fillna(data['Deaths'].mean(), inplace=True)"
   ]
  },
  {
   "cell_type": "markdown",
   "id": "e9fe8e84-c373-4f4b-a34f-2289d26c8cdd",
   "metadata": {},
   "source": [
    "### 11. Change the datatype of column Deaths"
   ]
  },
  {
   "cell_type": "code",
   "execution_count": 78,
   "id": "1f9592e9-fc2b-4347-8c16-478f72a6b8d7",
   "metadata": {},
   "outputs": [],
   "source": [
    "data['Deaths'] = data['Deaths'].astype(int)"
   ]
  },
  {
   "cell_type": "code",
   "execution_count": 80,
   "id": "ec355c23-596e-4c1e-b6ca-8f015c6aaef3",
   "metadata": {},
   "outputs": [
    {
     "data": {
      "text/plain": [
       "0"
      ]
     },
     "execution_count": 80,
     "metadata": {},
     "output_type": "execute_result"
    }
   ],
   "source": [
    "data.Deaths.isnull().sum()"
   ]
  },
  {
   "cell_type": "code",
   "execution_count": 82,
   "id": "4439d369-7e76-4e0f-9ecf-e8c076d3e770",
   "metadata": {},
   "outputs": [
    {
     "data": {
      "text/plain": [
       "array([  1269,    144,   1163,     52,     41,      3,   3059,    711,\n",
       "          167,    713,    423,     11,    141,   2965,      7,    538,\n",
       "         9822,      2,     35,      0,   2647,    294,  87618,    347,\n",
       "           53,      6,      1,     22,    391,   8944,     59,     75,\n",
       "         9187,   4656,   8777,     54,    208,    115,     96,    139,\n",
       "           87,     19,    373,    613,     58,   1083,   5532,   4652,\n",
       "          408,     51,     69,     34,    228,    329,  30212,     49,\n",
       "            8,     16,   9125,    168,    202,   1761,     45,     26,\n",
       "           20,    158,   1166,    596,     10,  33408,   4838,  15912,\n",
       "         4458,   1764,    474,  35112,    998,    585,    285,    185,\n",
       "          438,   1301,     31,     12,     72,     64,     80,    112,\n",
       "           91,     99,    124,     15,      9,    156,  44022,    748,\n",
       "            4,    316,     48,   6160,    108,    860,    466,    255,\n",
       "          393,   5842,   1322,     43,  18418,   1945,   1676,   1719,\n",
       "          165,   2206,  13334,      5,     42,     14,   2760,    194,\n",
       "          543,     66,     27,     28,    116,     93,   7067,    300,\n",
       "           46,  28432,    720,     24,   5700,   1978,     40,     60,\n",
       "           21,     18,     50,   5630, 148011,   1636,    345,  45844,\n",
       "          121,    146,     78,    483,    140,   3516])"
      ]
     },
     "execution_count": 82,
     "metadata": {},
     "output_type": "execute_result"
    }
   ],
   "source": [
    "data.Deaths.unique()"
   ]
  },
  {
   "cell_type": "code",
   "execution_count": 84,
   "id": "d0691fb9-1f2d-46c7-aa9d-82879821b293",
   "metadata": {},
   "outputs": [
    {
     "name": "stdout",
     "output_type": "stream",
     "text": [
      "<class 'pandas.core.frame.DataFrame'>\n",
      "Index: 187 entries, 0 to 186\n",
      "Data columns (total 15 columns):\n",
      " #   Column                  Non-Null Count  Dtype  \n",
      "---  ------                  --------------  -----  \n",
      " 0   Country/Region          187 non-null    object \n",
      " 1   Confirmed               187 non-null    int64  \n",
      " 2   Deaths                  187 non-null    int64  \n",
      " 3   Recovered               187 non-null    int64  \n",
      " 4   Active                  187 non-null    int64  \n",
      " 5   New_cases               187 non-null    float64\n",
      " 6   New_deaths              187 non-null    float64\n",
      " 7   New_recovered           187 non-null    int64  \n",
      " 8   Deaths_/_100_Cases      187 non-null    float64\n",
      " 9   Recovered_/_100_Cases   187 non-null    float64\n",
      " 10  Deaths_/_100_Recovered  187 non-null    float64\n",
      " 11  Confirmed_last_week     187 non-null    int64  \n",
      " 12  1_week_change           187 non-null    int64  \n",
      " 13  1_week_%_increase       187 non-null    float64\n",
      " 14  WHO_Region              187 non-null    object \n",
      "dtypes: float64(6), int64(7), object(2)\n",
      "memory usage: 23.4+ KB\n"
     ]
    }
   ],
   "source": [
    "data.info()"
   ]
  },
  {
   "cell_type": "markdown",
   "id": "fd4018dd-7d98-41a0-aa95-23e5ad6a03fe",
   "metadata": {},
   "source": [
    "### 12. Calculate total number of Death and Recovery all over the world"
   ]
  },
  {
   "cell_type": "code",
   "execution_count": 88,
   "id": "f22779f6-e19e-4991-bd3b-2c6e5a8f8b6a",
   "metadata": {},
   "outputs": [
    {
     "data": {
      "text/plain": [
       "657516"
      ]
     },
     "execution_count": 88,
     "metadata": {},
     "output_type": "execute_result"
    }
   ],
   "source": [
    "data.Deaths.sum()"
   ]
  },
  {
   "cell_type": "code",
   "execution_count": 90,
   "id": "64473d15-3d74-4ecb-8247-f9730250307b",
   "metadata": {},
   "outputs": [
    {
     "data": {
      "text/plain": [
       "9468087"
      ]
     },
     "execution_count": 90,
     "metadata": {},
     "output_type": "execute_result"
    }
   ],
   "source": [
    "data.Recovered.sum()"
   ]
  },
  {
   "cell_type": "markdown",
   "id": "031d808f-4cf1-4466-b3a7-95b0a50a31dd",
   "metadata": {},
   "source": [
    "### 13. How many countries have more than 1 million total cases"
   ]
  },
  {
   "cell_type": "code",
   "execution_count": 114,
   "id": "3c11c882-88e1-470c-90f0-8ca063717c06",
   "metadata": {},
   "outputs": [
    {
     "data": {
      "text/plain": [
       "3"
      ]
     },
     "execution_count": 114,
     "metadata": {},
     "output_type": "execute_result"
    }
   ],
   "source": [
    "data[data.Confirmed > 1000000]['Country/Region'].count()"
   ]
  },
  {
   "cell_type": "markdown",
   "id": "fd53cd5f-0090-438d-9544-78dd92aec13e",
   "metadata": {},
   "source": [
    "### 14. Which countries have a recovery rate (Recovered / Total Cases) above 95%"
   ]
  },
  {
   "cell_type": "code",
   "execution_count": 117,
   "id": "1bed238a-7e68-474b-b6e9-4807d71c2208",
   "metadata": {},
   "outputs": [
    {
     "data": {
      "text/plain": [
       "Unnamed: 0\n",
       "24          Brunei\n",
       "48        Djibouti\n",
       "49        Dominica\n",
       "69         Grenada\n",
       "75        Holy See\n",
       "78         Iceland\n",
       "105       Malaysia\n",
       "110      Mauritius\n",
       "121    New Zealand\n",
       "126         Norway\n",
       "136          Qatar\n",
       "164        Taiwan*\n",
       "Name: Country/Region, dtype: object"
      ]
     },
     "execution_count": 117,
     "metadata": {},
     "output_type": "execute_result"
    }
   ],
   "source": [
    "data[((data.Recovered / data.Confirmed) * 100) > 95]['Country/Region']"
   ]
  },
  {
   "cell_type": "markdown",
   "id": "f3518b73-cbcd-421f-9eda-ec023e948305",
   "metadata": {},
   "source": [
    "### 15. Drop columns name WHO Region and Confirmed"
   ]
  },
  {
   "cell_type": "code",
   "execution_count": 122,
   "id": "5f7cbe1d-4c2e-41a2-862d-9d2f49fffebb",
   "metadata": {},
   "outputs": [
    {
     "data": {
      "text/html": [
       "<div>\n",
       "<style scoped>\n",
       "    .dataframe tbody tr th:only-of-type {\n",
       "        vertical-align: middle;\n",
       "    }\n",
       "\n",
       "    .dataframe tbody tr th {\n",
       "        vertical-align: top;\n",
       "    }\n",
       "\n",
       "    .dataframe thead th {\n",
       "        text-align: right;\n",
       "    }\n",
       "</style>\n",
       "<table border=\"1\" class=\"dataframe\">\n",
       "  <thead>\n",
       "    <tr style=\"text-align: right;\">\n",
       "      <th></th>\n",
       "      <th>Country/Region</th>\n",
       "      <th>Deaths</th>\n",
       "      <th>Recovered</th>\n",
       "      <th>Active</th>\n",
       "      <th>New_cases</th>\n",
       "      <th>New_deaths</th>\n",
       "      <th>New_recovered</th>\n",
       "      <th>Deaths_/_100_Cases</th>\n",
       "      <th>Recovered_/_100_Cases</th>\n",
       "      <th>Deaths_/_100_Recovered</th>\n",
       "      <th>Confirmed_last_week</th>\n",
       "      <th>1_week_change</th>\n",
       "      <th>1_week_%_increase</th>\n",
       "    </tr>\n",
       "    <tr>\n",
       "      <th>Unnamed: 0</th>\n",
       "      <th></th>\n",
       "      <th></th>\n",
       "      <th></th>\n",
       "      <th></th>\n",
       "      <th></th>\n",
       "      <th></th>\n",
       "      <th></th>\n",
       "      <th></th>\n",
       "      <th></th>\n",
       "      <th></th>\n",
       "      <th></th>\n",
       "      <th></th>\n",
       "      <th></th>\n",
       "    </tr>\n",
       "  </thead>\n",
       "  <tbody>\n",
       "    <tr>\n",
       "      <th>0</th>\n",
       "      <td>Afghanistan</td>\n",
       "      <td>1269</td>\n",
       "      <td>25198</td>\n",
       "      <td>9796</td>\n",
       "      <td>106.0</td>\n",
       "      <td>10.0</td>\n",
       "      <td>18</td>\n",
       "      <td>3.50</td>\n",
       "      <td>69.49</td>\n",
       "      <td>5.04</td>\n",
       "      <td>35526</td>\n",
       "      <td>737</td>\n",
       "      <td>2.07</td>\n",
       "    </tr>\n",
       "    <tr>\n",
       "      <th>1</th>\n",
       "      <td>Albania</td>\n",
       "      <td>144</td>\n",
       "      <td>2745</td>\n",
       "      <td>1991</td>\n",
       "      <td>117.0</td>\n",
       "      <td>6.0</td>\n",
       "      <td>63</td>\n",
       "      <td>2.95</td>\n",
       "      <td>56.25</td>\n",
       "      <td>5.25</td>\n",
       "      <td>4171</td>\n",
       "      <td>709</td>\n",
       "      <td>17.00</td>\n",
       "    </tr>\n",
       "    <tr>\n",
       "      <th>2</th>\n",
       "      <td>Algeria</td>\n",
       "      <td>1163</td>\n",
       "      <td>18837</td>\n",
       "      <td>7973</td>\n",
       "      <td>616.0</td>\n",
       "      <td>8.0</td>\n",
       "      <td>749</td>\n",
       "      <td>4.16</td>\n",
       "      <td>67.34</td>\n",
       "      <td>6.17</td>\n",
       "      <td>23691</td>\n",
       "      <td>4282</td>\n",
       "      <td>18.07</td>\n",
       "    </tr>\n",
       "    <tr>\n",
       "      <th>3</th>\n",
       "      <td>Andorra</td>\n",
       "      <td>52</td>\n",
       "      <td>803</td>\n",
       "      <td>52</td>\n",
       "      <td>10.0</td>\n",
       "      <td>0.0</td>\n",
       "      <td>0</td>\n",
       "      <td>5.73</td>\n",
       "      <td>88.53</td>\n",
       "      <td>6.48</td>\n",
       "      <td>884</td>\n",
       "      <td>23</td>\n",
       "      <td>2.60</td>\n",
       "    </tr>\n",
       "    <tr>\n",
       "      <th>4</th>\n",
       "      <td>Angola</td>\n",
       "      <td>41</td>\n",
       "      <td>242</td>\n",
       "      <td>667</td>\n",
       "      <td>18.0</td>\n",
       "      <td>1.0</td>\n",
       "      <td>0</td>\n",
       "      <td>4.32</td>\n",
       "      <td>25.47</td>\n",
       "      <td>16.94</td>\n",
       "      <td>749</td>\n",
       "      <td>201</td>\n",
       "      <td>26.84</td>\n",
       "    </tr>\n",
       "    <tr>\n",
       "      <th>...</th>\n",
       "      <td>...</td>\n",
       "      <td>...</td>\n",
       "      <td>...</td>\n",
       "      <td>...</td>\n",
       "      <td>...</td>\n",
       "      <td>...</td>\n",
       "      <td>...</td>\n",
       "      <td>...</td>\n",
       "      <td>...</td>\n",
       "      <td>...</td>\n",
       "      <td>...</td>\n",
       "      <td>...</td>\n",
       "      <td>...</td>\n",
       "    </tr>\n",
       "    <tr>\n",
       "      <th>182</th>\n",
       "      <td>West Bank and Gaza</td>\n",
       "      <td>78</td>\n",
       "      <td>3752</td>\n",
       "      <td>6791</td>\n",
       "      <td>152.0</td>\n",
       "      <td>2.0</td>\n",
       "      <td>0</td>\n",
       "      <td>0.73</td>\n",
       "      <td>35.33</td>\n",
       "      <td>2.08</td>\n",
       "      <td>8916</td>\n",
       "      <td>1705</td>\n",
       "      <td>19.12</td>\n",
       "    </tr>\n",
       "    <tr>\n",
       "      <th>183</th>\n",
       "      <td>Western Sahara</td>\n",
       "      <td>1</td>\n",
       "      <td>8</td>\n",
       "      <td>1</td>\n",
       "      <td>0.0</td>\n",
       "      <td>0.0</td>\n",
       "      <td>0</td>\n",
       "      <td>10.00</td>\n",
       "      <td>80.00</td>\n",
       "      <td>12.50</td>\n",
       "      <td>10</td>\n",
       "      <td>0</td>\n",
       "      <td>0.00</td>\n",
       "    </tr>\n",
       "    <tr>\n",
       "      <th>184</th>\n",
       "      <td>Yemen</td>\n",
       "      <td>483</td>\n",
       "      <td>833</td>\n",
       "      <td>375</td>\n",
       "      <td>10.0</td>\n",
       "      <td>4.0</td>\n",
       "      <td>36</td>\n",
       "      <td>28.56</td>\n",
       "      <td>49.26</td>\n",
       "      <td>57.98</td>\n",
       "      <td>1619</td>\n",
       "      <td>72</td>\n",
       "      <td>4.45</td>\n",
       "    </tr>\n",
       "    <tr>\n",
       "      <th>185</th>\n",
       "      <td>Zambia</td>\n",
       "      <td>140</td>\n",
       "      <td>2815</td>\n",
       "      <td>1597</td>\n",
       "      <td>71.0</td>\n",
       "      <td>1.0</td>\n",
       "      <td>465</td>\n",
       "      <td>3.08</td>\n",
       "      <td>61.84</td>\n",
       "      <td>4.97</td>\n",
       "      <td>3326</td>\n",
       "      <td>1226</td>\n",
       "      <td>36.86</td>\n",
       "    </tr>\n",
       "    <tr>\n",
       "      <th>186</th>\n",
       "      <td>Zimbabwe</td>\n",
       "      <td>3516</td>\n",
       "      <td>542</td>\n",
       "      <td>2126</td>\n",
       "      <td>192.0</td>\n",
       "      <td>2.0</td>\n",
       "      <td>24</td>\n",
       "      <td>1.33</td>\n",
       "      <td>20.04</td>\n",
       "      <td>6.64</td>\n",
       "      <td>1713</td>\n",
       "      <td>991</td>\n",
       "      <td>57.85</td>\n",
       "    </tr>\n",
       "  </tbody>\n",
       "</table>\n",
       "<p>187 rows × 13 columns</p>\n",
       "</div>"
      ],
      "text/plain": [
       "                Country/Region  Deaths  Recovered  Active  New_cases  \\\n",
       "Unnamed: 0                                                             \n",
       "0                  Afghanistan    1269      25198    9796      106.0   \n",
       "1                      Albania     144       2745    1991      117.0   \n",
       "2                      Algeria    1163      18837    7973      616.0   \n",
       "3                      Andorra      52        803      52       10.0   \n",
       "4                       Angola      41        242     667       18.0   \n",
       "...                        ...     ...        ...     ...        ...   \n",
       "182         West Bank and Gaza      78       3752    6791      152.0   \n",
       "183             Western Sahara       1          8       1        0.0   \n",
       "184                      Yemen     483        833     375       10.0   \n",
       "185                     Zambia     140       2815    1597       71.0   \n",
       "186                   Zimbabwe    3516        542    2126      192.0   \n",
       "\n",
       "            New_deaths  New_recovered  Deaths_/_100_Cases  \\\n",
       "Unnamed: 0                                                  \n",
       "0                 10.0             18                3.50   \n",
       "1                  6.0             63                2.95   \n",
       "2                  8.0            749                4.16   \n",
       "3                  0.0              0                5.73   \n",
       "4                  1.0              0                4.32   \n",
       "...                ...            ...                 ...   \n",
       "182                2.0              0                0.73   \n",
       "183                0.0              0               10.00   \n",
       "184                4.0             36               28.56   \n",
       "185                1.0            465                3.08   \n",
       "186                2.0             24                1.33   \n",
       "\n",
       "            Recovered_/_100_Cases  Deaths_/_100_Recovered  \\\n",
       "Unnamed: 0                                                  \n",
       "0                           69.49                    5.04   \n",
       "1                           56.25                    5.25   \n",
       "2                           67.34                    6.17   \n",
       "3                           88.53                    6.48   \n",
       "4                           25.47                   16.94   \n",
       "...                           ...                     ...   \n",
       "182                         35.33                    2.08   \n",
       "183                         80.00                   12.50   \n",
       "184                         49.26                   57.98   \n",
       "185                         61.84                    4.97   \n",
       "186                         20.04                    6.64   \n",
       "\n",
       "            Confirmed_last_week  1_week_change  1_week_%_increase  \n",
       "Unnamed: 0                                                         \n",
       "0                         35526            737               2.07  \n",
       "1                          4171            709              17.00  \n",
       "2                         23691           4282              18.07  \n",
       "3                           884             23               2.60  \n",
       "4                           749            201              26.84  \n",
       "...                         ...            ...                ...  \n",
       "182                        8916           1705              19.12  \n",
       "183                          10              0               0.00  \n",
       "184                        1619             72               4.45  \n",
       "185                        3326           1226              36.86  \n",
       "186                        1713            991              57.85  \n",
       "\n",
       "[187 rows x 13 columns]"
      ]
     },
     "execution_count": 122,
     "metadata": {},
     "output_type": "execute_result"
    }
   ],
   "source": [
    "data.drop(columns=['WHO_Region', 'Confirmed'])"
   ]
  },
  {
   "cell_type": "code",
   "execution_count": 124,
   "id": "b7554688-2b70-4030-883e-e9ee72353aaf",
   "metadata": {},
   "outputs": [],
   "source": [
    "data.drop(columns=['WHO_Region', 'Confirmed'], inplace=True)"
   ]
  },
  {
   "cell_type": "markdown",
   "id": "690edaeb-06a8-4dc8-a3ba-19528942ac64",
   "metadata": {},
   "source": [
    "### 16. Find the Country with the Max Deaths"
   ]
  },
  {
   "cell_type": "code",
   "execution_count": 135,
   "id": "9476c060-3932-4162-a68e-b8ad9682fb39",
   "metadata": {},
   "outputs": [
    {
     "data": {
      "text/plain": [
       "'US'"
      ]
     },
     "execution_count": 135,
     "metadata": {},
     "output_type": "execute_result"
    }
   ],
   "source": [
    "data.loc[data.Deaths.idxmax(), 'Country/Region']"
   ]
  },
  {
   "cell_type": "markdown",
   "id": "2ffc5080-2d63-4426-971b-c3d807cf6eb2",
   "metadata": {},
   "source": [
    "### 17. Sort Countries by Deaths (Descending Order"
   ]
  },
  {
   "cell_type": "code",
   "execution_count": 140,
   "id": "46f7ded1-fd3d-4bb9-82d0-ff77902d35b9",
   "metadata": {},
   "outputs": [],
   "source": [
    "sorted_data_by_deaths = data.sort_values(by='Deaths', ascending=False)"
   ]
  },
  {
   "cell_type": "code",
   "execution_count": 142,
   "id": "f45af0fb-19d7-465c-b4b4-153bb1c27b5a",
   "metadata": {},
   "outputs": [
    {
     "data": {
      "text/html": [
       "<div>\n",
       "<style scoped>\n",
       "    .dataframe tbody tr th:only-of-type {\n",
       "        vertical-align: middle;\n",
       "    }\n",
       "\n",
       "    .dataframe tbody tr th {\n",
       "        vertical-align: top;\n",
       "    }\n",
       "\n",
       "    .dataframe thead th {\n",
       "        text-align: right;\n",
       "    }\n",
       "</style>\n",
       "<table border=\"1\" class=\"dataframe\">\n",
       "  <thead>\n",
       "    <tr style=\"text-align: right;\">\n",
       "      <th></th>\n",
       "      <th>Country/Region</th>\n",
       "      <th>Deaths</th>\n",
       "      <th>Recovered</th>\n",
       "      <th>Active</th>\n",
       "      <th>New_cases</th>\n",
       "      <th>New_deaths</th>\n",
       "      <th>New_recovered</th>\n",
       "      <th>Deaths_/_100_Cases</th>\n",
       "      <th>Recovered_/_100_Cases</th>\n",
       "      <th>Deaths_/_100_Recovered</th>\n",
       "      <th>Confirmed_last_week</th>\n",
       "      <th>1_week_change</th>\n",
       "      <th>1_week_%_increase</th>\n",
       "    </tr>\n",
       "    <tr>\n",
       "      <th>Unnamed: 0</th>\n",
       "      <th></th>\n",
       "      <th></th>\n",
       "      <th></th>\n",
       "      <th></th>\n",
       "      <th></th>\n",
       "      <th></th>\n",
       "      <th></th>\n",
       "      <th></th>\n",
       "      <th></th>\n",
       "      <th></th>\n",
       "      <th></th>\n",
       "      <th></th>\n",
       "      <th></th>\n",
       "    </tr>\n",
       "  </thead>\n",
       "  <tbody>\n",
       "    <tr>\n",
       "      <th>173</th>\n",
       "      <td>US</td>\n",
       "      <td>148011</td>\n",
       "      <td>1325804</td>\n",
       "      <td>2816444</td>\n",
       "      <td>56336.000000</td>\n",
       "      <td>1076.00000</td>\n",
       "      <td>27941</td>\n",
       "      <td>3.45</td>\n",
       "      <td>30.90</td>\n",
       "      <td>11.16</td>\n",
       "      <td>3834677</td>\n",
       "      <td>455582</td>\n",
       "      <td>11.88</td>\n",
       "    </tr>\n",
       "    <tr>\n",
       "      <th>23</th>\n",
       "      <td>Brazil</td>\n",
       "      <td>87618</td>\n",
       "      <td>1846641</td>\n",
       "      <td>508116</td>\n",
       "      <td>23284.000000</td>\n",
       "      <td>614.00000</td>\n",
       "      <td>33728</td>\n",
       "      <td>3.59</td>\n",
       "      <td>75.61</td>\n",
       "      <td>4.74</td>\n",
       "      <td>2118646</td>\n",
       "      <td>323729</td>\n",
       "      <td>15.28</td>\n",
       "    </tr>\n",
       "    <tr>\n",
       "      <th>177</th>\n",
       "      <td>United Kingdom</td>\n",
       "      <td>45844</td>\n",
       "      <td>1437</td>\n",
       "      <td>254427</td>\n",
       "      <td>688.000000</td>\n",
       "      <td>7.00000</td>\n",
       "      <td>3</td>\n",
       "      <td>15.19</td>\n",
       "      <td>0.48</td>\n",
       "      <td>3190.26</td>\n",
       "      <td>296944</td>\n",
       "      <td>4764</td>\n",
       "      <td>1.60</td>\n",
       "    </tr>\n",
       "    <tr>\n",
       "      <th>111</th>\n",
       "      <td>Mexico</td>\n",
       "      <td>44022</td>\n",
       "      <td>303810</td>\n",
       "      <td>47657</td>\n",
       "      <td>4973.000000</td>\n",
       "      <td>342.00000</td>\n",
       "      <td>8588</td>\n",
       "      <td>11.13</td>\n",
       "      <td>76.82</td>\n",
       "      <td>14.49</td>\n",
       "      <td>349396</td>\n",
       "      <td>46093</td>\n",
       "      <td>13.19</td>\n",
       "    </tr>\n",
       "    <tr>\n",
       "      <th>85</th>\n",
       "      <td>Italy</td>\n",
       "      <td>35112</td>\n",
       "      <td>198593</td>\n",
       "      <td>12581</td>\n",
       "      <td>168.000000</td>\n",
       "      <td>5.00000</td>\n",
       "      <td>147</td>\n",
       "      <td>14.26</td>\n",
       "      <td>80.64</td>\n",
       "      <td>17.68</td>\n",
       "      <td>244624</td>\n",
       "      <td>1662</td>\n",
       "      <td>0.68</td>\n",
       "    </tr>\n",
       "    <tr>\n",
       "      <th>...</th>\n",
       "      <td>...</td>\n",
       "      <td>...</td>\n",
       "      <td>...</td>\n",
       "      <td>...</td>\n",
       "      <td>...</td>\n",
       "      <td>...</td>\n",
       "      <td>...</td>\n",
       "      <td>...</td>\n",
       "      <td>...</td>\n",
       "      <td>...</td>\n",
       "      <td>...</td>\n",
       "      <td>...</td>\n",
       "      <td>...</td>\n",
       "    </tr>\n",
       "    <tr>\n",
       "      <th>19</th>\n",
       "      <td>Bhutan</td>\n",
       "      <td>0</td>\n",
       "      <td>86</td>\n",
       "      <td>13</td>\n",
       "      <td>1282.740113</td>\n",
       "      <td>30.40113</td>\n",
       "      <td>1</td>\n",
       "      <td>0.00</td>\n",
       "      <td>86.87</td>\n",
       "      <td>0.00</td>\n",
       "      <td>90</td>\n",
       "      <td>9</td>\n",
       "      <td>10.00</td>\n",
       "    </tr>\n",
       "    <tr>\n",
       "      <th>130</th>\n",
       "      <td>Papua New Guinea</td>\n",
       "      <td>0</td>\n",
       "      <td>11</td>\n",
       "      <td>51</td>\n",
       "      <td>0.000000</td>\n",
       "      <td>0.00000</td>\n",
       "      <td>0</td>\n",
       "      <td>0.00</td>\n",
       "      <td>17.74</td>\n",
       "      <td>0.00</td>\n",
       "      <td>19</td>\n",
       "      <td>43</td>\n",
       "      <td>226.32</td>\n",
       "    </tr>\n",
       "    <tr>\n",
       "      <th>75</th>\n",
       "      <td>Holy See</td>\n",
       "      <td>0</td>\n",
       "      <td>12</td>\n",
       "      <td>0</td>\n",
       "      <td>0.000000</td>\n",
       "      <td>0.00000</td>\n",
       "      <td>0</td>\n",
       "      <td>0.00</td>\n",
       "      <td>100.00</td>\n",
       "      <td>0.00</td>\n",
       "      <td>12</td>\n",
       "      <td>0</td>\n",
       "      <td>0.00</td>\n",
       "    </tr>\n",
       "    <tr>\n",
       "      <th>30</th>\n",
       "      <td>Cambodia</td>\n",
       "      <td>0</td>\n",
       "      <td>147</td>\n",
       "      <td>79</td>\n",
       "      <td>1.000000</td>\n",
       "      <td>0.00000</td>\n",
       "      <td>4</td>\n",
       "      <td>0.00</td>\n",
       "      <td>65.04</td>\n",
       "      <td>0.00</td>\n",
       "      <td>171</td>\n",
       "      <td>55</td>\n",
       "      <td>32.16</td>\n",
       "    </tr>\n",
       "    <tr>\n",
       "      <th>114</th>\n",
       "      <td>Mongolia</td>\n",
       "      <td>0</td>\n",
       "      <td>222</td>\n",
       "      <td>67</td>\n",
       "      <td>1.000000</td>\n",
       "      <td>0.00000</td>\n",
       "      <td>4</td>\n",
       "      <td>0.00</td>\n",
       "      <td>76.82</td>\n",
       "      <td>0.00</td>\n",
       "      <td>287</td>\n",
       "      <td>2</td>\n",
       "      <td>0.70</td>\n",
       "    </tr>\n",
       "  </tbody>\n",
       "</table>\n",
       "<p>187 rows × 13 columns</p>\n",
       "</div>"
      ],
      "text/plain": [
       "              Country/Region  Deaths  Recovered   Active     New_cases  \\\n",
       "Unnamed: 0                                                               \n",
       "173                       US  148011    1325804  2816444  56336.000000   \n",
       "23                    Brazil   87618    1846641   508116  23284.000000   \n",
       "177           United Kingdom   45844       1437   254427    688.000000   \n",
       "111                   Mexico   44022     303810    47657   4973.000000   \n",
       "85                     Italy   35112     198593    12581    168.000000   \n",
       "...                      ...     ...        ...      ...           ...   \n",
       "19                    Bhutan       0         86       13   1282.740113   \n",
       "130         Papua New Guinea       0         11       51      0.000000   \n",
       "75                  Holy See       0         12        0      0.000000   \n",
       "30                  Cambodia       0        147       79      1.000000   \n",
       "114                 Mongolia       0        222       67      1.000000   \n",
       "\n",
       "            New_deaths  New_recovered  Deaths_/_100_Cases  \\\n",
       "Unnamed: 0                                                  \n",
       "173         1076.00000          27941                3.45   \n",
       "23           614.00000          33728                3.59   \n",
       "177            7.00000              3               15.19   \n",
       "111          342.00000           8588               11.13   \n",
       "85             5.00000            147               14.26   \n",
       "...                ...            ...                 ...   \n",
       "19            30.40113              1                0.00   \n",
       "130            0.00000              0                0.00   \n",
       "75             0.00000              0                0.00   \n",
       "30             0.00000              4                0.00   \n",
       "114            0.00000              4                0.00   \n",
       "\n",
       "            Recovered_/_100_Cases  Deaths_/_100_Recovered  \\\n",
       "Unnamed: 0                                                  \n",
       "173                         30.90                   11.16   \n",
       "23                          75.61                    4.74   \n",
       "177                          0.48                 3190.26   \n",
       "111                         76.82                   14.49   \n",
       "85                          80.64                   17.68   \n",
       "...                           ...                     ...   \n",
       "19                          86.87                    0.00   \n",
       "130                         17.74                    0.00   \n",
       "75                         100.00                    0.00   \n",
       "30                          65.04                    0.00   \n",
       "114                         76.82                    0.00   \n",
       "\n",
       "            Confirmed_last_week  1_week_change  1_week_%_increase  \n",
       "Unnamed: 0                                                         \n",
       "173                     3834677         455582              11.88  \n",
       "23                      2118646         323729              15.28  \n",
       "177                      296944           4764               1.60  \n",
       "111                      349396          46093              13.19  \n",
       "85                       244624           1662               0.68  \n",
       "...                         ...            ...                ...  \n",
       "19                           90              9              10.00  \n",
       "130                          19             43             226.32  \n",
       "75                           12              0               0.00  \n",
       "30                          171             55              32.16  \n",
       "114                         287              2               0.70  \n",
       "\n",
       "[187 rows x 13 columns]"
      ]
     },
     "execution_count": 142,
     "metadata": {},
     "output_type": "execute_result"
    }
   ],
   "source": [
    "sorted_data_by_deaths"
   ]
  },
  {
   "cell_type": "markdown",
   "id": "da0d61ac-ef54-447d-a368-4369ff9dad03",
   "metadata": {},
   "source": [
    "### 18. Make new column name Total_cases that have a sum of Deaths, Recovered , Active"
   ]
  },
  {
   "cell_type": "code",
   "execution_count": 145,
   "id": "00673f23-858c-43bb-9945-620a1ddc674e",
   "metadata": {},
   "outputs": [],
   "source": [
    "data['Total_cases'] = data.Deaths + data.Recovered + data.Active"
   ]
  },
  {
   "cell_type": "code",
   "execution_count": 147,
   "id": "59d7f342-db34-4cc8-9218-55950f655df2",
   "metadata": {},
   "outputs": [
    {
     "data": {
      "text/html": [
       "<div>\n",
       "<style scoped>\n",
       "    .dataframe tbody tr th:only-of-type {\n",
       "        vertical-align: middle;\n",
       "    }\n",
       "\n",
       "    .dataframe tbody tr th {\n",
       "        vertical-align: top;\n",
       "    }\n",
       "\n",
       "    .dataframe thead th {\n",
       "        text-align: right;\n",
       "    }\n",
       "</style>\n",
       "<table border=\"1\" class=\"dataframe\">\n",
       "  <thead>\n",
       "    <tr style=\"text-align: right;\">\n",
       "      <th></th>\n",
       "      <th>Country/Region</th>\n",
       "      <th>Deaths</th>\n",
       "      <th>Recovered</th>\n",
       "      <th>Active</th>\n",
       "      <th>New_cases</th>\n",
       "      <th>New_deaths</th>\n",
       "      <th>New_recovered</th>\n",
       "      <th>Deaths_/_100_Cases</th>\n",
       "      <th>Recovered_/_100_Cases</th>\n",
       "      <th>Deaths_/_100_Recovered</th>\n",
       "      <th>Confirmed_last_week</th>\n",
       "      <th>1_week_change</th>\n",
       "      <th>1_week_%_increase</th>\n",
       "      <th>Total_cases</th>\n",
       "    </tr>\n",
       "    <tr>\n",
       "      <th>Unnamed: 0</th>\n",
       "      <th></th>\n",
       "      <th></th>\n",
       "      <th></th>\n",
       "      <th></th>\n",
       "      <th></th>\n",
       "      <th></th>\n",
       "      <th></th>\n",
       "      <th></th>\n",
       "      <th></th>\n",
       "      <th></th>\n",
       "      <th></th>\n",
       "      <th></th>\n",
       "      <th></th>\n",
       "      <th></th>\n",
       "    </tr>\n",
       "  </thead>\n",
       "  <tbody>\n",
       "    <tr>\n",
       "      <th>0</th>\n",
       "      <td>Afghanistan</td>\n",
       "      <td>1269</td>\n",
       "      <td>25198</td>\n",
       "      <td>9796</td>\n",
       "      <td>106.0</td>\n",
       "      <td>10.0</td>\n",
       "      <td>18</td>\n",
       "      <td>3.50</td>\n",
       "      <td>69.49</td>\n",
       "      <td>5.04</td>\n",
       "      <td>35526</td>\n",
       "      <td>737</td>\n",
       "      <td>2.07</td>\n",
       "      <td>36263</td>\n",
       "    </tr>\n",
       "    <tr>\n",
       "      <th>1</th>\n",
       "      <td>Albania</td>\n",
       "      <td>144</td>\n",
       "      <td>2745</td>\n",
       "      <td>1991</td>\n",
       "      <td>117.0</td>\n",
       "      <td>6.0</td>\n",
       "      <td>63</td>\n",
       "      <td>2.95</td>\n",
       "      <td>56.25</td>\n",
       "      <td>5.25</td>\n",
       "      <td>4171</td>\n",
       "      <td>709</td>\n",
       "      <td>17.00</td>\n",
       "      <td>4880</td>\n",
       "    </tr>\n",
       "    <tr>\n",
       "      <th>2</th>\n",
       "      <td>Algeria</td>\n",
       "      <td>1163</td>\n",
       "      <td>18837</td>\n",
       "      <td>7973</td>\n",
       "      <td>616.0</td>\n",
       "      <td>8.0</td>\n",
       "      <td>749</td>\n",
       "      <td>4.16</td>\n",
       "      <td>67.34</td>\n",
       "      <td>6.17</td>\n",
       "      <td>23691</td>\n",
       "      <td>4282</td>\n",
       "      <td>18.07</td>\n",
       "      <td>27973</td>\n",
       "    </tr>\n",
       "    <tr>\n",
       "      <th>3</th>\n",
       "      <td>Andorra</td>\n",
       "      <td>52</td>\n",
       "      <td>803</td>\n",
       "      <td>52</td>\n",
       "      <td>10.0</td>\n",
       "      <td>0.0</td>\n",
       "      <td>0</td>\n",
       "      <td>5.73</td>\n",
       "      <td>88.53</td>\n",
       "      <td>6.48</td>\n",
       "      <td>884</td>\n",
       "      <td>23</td>\n",
       "      <td>2.60</td>\n",
       "      <td>907</td>\n",
       "    </tr>\n",
       "    <tr>\n",
       "      <th>4</th>\n",
       "      <td>Angola</td>\n",
       "      <td>41</td>\n",
       "      <td>242</td>\n",
       "      <td>667</td>\n",
       "      <td>18.0</td>\n",
       "      <td>1.0</td>\n",
       "      <td>0</td>\n",
       "      <td>4.32</td>\n",
       "      <td>25.47</td>\n",
       "      <td>16.94</td>\n",
       "      <td>749</td>\n",
       "      <td>201</td>\n",
       "      <td>26.84</td>\n",
       "      <td>950</td>\n",
       "    </tr>\n",
       "    <tr>\n",
       "      <th>...</th>\n",
       "      <td>...</td>\n",
       "      <td>...</td>\n",
       "      <td>...</td>\n",
       "      <td>...</td>\n",
       "      <td>...</td>\n",
       "      <td>...</td>\n",
       "      <td>...</td>\n",
       "      <td>...</td>\n",
       "      <td>...</td>\n",
       "      <td>...</td>\n",
       "      <td>...</td>\n",
       "      <td>...</td>\n",
       "      <td>...</td>\n",
       "      <td>...</td>\n",
       "    </tr>\n",
       "    <tr>\n",
       "      <th>182</th>\n",
       "      <td>West Bank and Gaza</td>\n",
       "      <td>78</td>\n",
       "      <td>3752</td>\n",
       "      <td>6791</td>\n",
       "      <td>152.0</td>\n",
       "      <td>2.0</td>\n",
       "      <td>0</td>\n",
       "      <td>0.73</td>\n",
       "      <td>35.33</td>\n",
       "      <td>2.08</td>\n",
       "      <td>8916</td>\n",
       "      <td>1705</td>\n",
       "      <td>19.12</td>\n",
       "      <td>10621</td>\n",
       "    </tr>\n",
       "    <tr>\n",
       "      <th>183</th>\n",
       "      <td>Western Sahara</td>\n",
       "      <td>1</td>\n",
       "      <td>8</td>\n",
       "      <td>1</td>\n",
       "      <td>0.0</td>\n",
       "      <td>0.0</td>\n",
       "      <td>0</td>\n",
       "      <td>10.00</td>\n",
       "      <td>80.00</td>\n",
       "      <td>12.50</td>\n",
       "      <td>10</td>\n",
       "      <td>0</td>\n",
       "      <td>0.00</td>\n",
       "      <td>10</td>\n",
       "    </tr>\n",
       "    <tr>\n",
       "      <th>184</th>\n",
       "      <td>Yemen</td>\n",
       "      <td>483</td>\n",
       "      <td>833</td>\n",
       "      <td>375</td>\n",
       "      <td>10.0</td>\n",
       "      <td>4.0</td>\n",
       "      <td>36</td>\n",
       "      <td>28.56</td>\n",
       "      <td>49.26</td>\n",
       "      <td>57.98</td>\n",
       "      <td>1619</td>\n",
       "      <td>72</td>\n",
       "      <td>4.45</td>\n",
       "      <td>1691</td>\n",
       "    </tr>\n",
       "    <tr>\n",
       "      <th>185</th>\n",
       "      <td>Zambia</td>\n",
       "      <td>140</td>\n",
       "      <td>2815</td>\n",
       "      <td>1597</td>\n",
       "      <td>71.0</td>\n",
       "      <td>1.0</td>\n",
       "      <td>465</td>\n",
       "      <td>3.08</td>\n",
       "      <td>61.84</td>\n",
       "      <td>4.97</td>\n",
       "      <td>3326</td>\n",
       "      <td>1226</td>\n",
       "      <td>36.86</td>\n",
       "      <td>4552</td>\n",
       "    </tr>\n",
       "    <tr>\n",
       "      <th>186</th>\n",
       "      <td>Zimbabwe</td>\n",
       "      <td>3516</td>\n",
       "      <td>542</td>\n",
       "      <td>2126</td>\n",
       "      <td>192.0</td>\n",
       "      <td>2.0</td>\n",
       "      <td>24</td>\n",
       "      <td>1.33</td>\n",
       "      <td>20.04</td>\n",
       "      <td>6.64</td>\n",
       "      <td>1713</td>\n",
       "      <td>991</td>\n",
       "      <td>57.85</td>\n",
       "      <td>6184</td>\n",
       "    </tr>\n",
       "  </tbody>\n",
       "</table>\n",
       "<p>187 rows × 14 columns</p>\n",
       "</div>"
      ],
      "text/plain": [
       "                Country/Region  Deaths  Recovered  Active  New_cases  \\\n",
       "Unnamed: 0                                                             \n",
       "0                  Afghanistan    1269      25198    9796      106.0   \n",
       "1                      Albania     144       2745    1991      117.0   \n",
       "2                      Algeria    1163      18837    7973      616.0   \n",
       "3                      Andorra      52        803      52       10.0   \n",
       "4                       Angola      41        242     667       18.0   \n",
       "...                        ...     ...        ...     ...        ...   \n",
       "182         West Bank and Gaza      78       3752    6791      152.0   \n",
       "183             Western Sahara       1          8       1        0.0   \n",
       "184                      Yemen     483        833     375       10.0   \n",
       "185                     Zambia     140       2815    1597       71.0   \n",
       "186                   Zimbabwe    3516        542    2126      192.0   \n",
       "\n",
       "            New_deaths  New_recovered  Deaths_/_100_Cases  \\\n",
       "Unnamed: 0                                                  \n",
       "0                 10.0             18                3.50   \n",
       "1                  6.0             63                2.95   \n",
       "2                  8.0            749                4.16   \n",
       "3                  0.0              0                5.73   \n",
       "4                  1.0              0                4.32   \n",
       "...                ...            ...                 ...   \n",
       "182                2.0              0                0.73   \n",
       "183                0.0              0               10.00   \n",
       "184                4.0             36               28.56   \n",
       "185                1.0            465                3.08   \n",
       "186                2.0             24                1.33   \n",
       "\n",
       "            Recovered_/_100_Cases  Deaths_/_100_Recovered  \\\n",
       "Unnamed: 0                                                  \n",
       "0                           69.49                    5.04   \n",
       "1                           56.25                    5.25   \n",
       "2                           67.34                    6.17   \n",
       "3                           88.53                    6.48   \n",
       "4                           25.47                   16.94   \n",
       "...                           ...                     ...   \n",
       "182                         35.33                    2.08   \n",
       "183                         80.00                   12.50   \n",
       "184                         49.26                   57.98   \n",
       "185                         61.84                    4.97   \n",
       "186                         20.04                    6.64   \n",
       "\n",
       "            Confirmed_last_week  1_week_change  1_week_%_increase  Total_cases  \n",
       "Unnamed: 0                                                                      \n",
       "0                         35526            737               2.07        36263  \n",
       "1                          4171            709              17.00         4880  \n",
       "2                         23691           4282              18.07        27973  \n",
       "3                           884             23               2.60          907  \n",
       "4                           749            201              26.84          950  \n",
       "...                         ...            ...                ...          ...  \n",
       "182                        8916           1705              19.12        10621  \n",
       "183                          10              0               0.00           10  \n",
       "184                        1619             72               4.45         1691  \n",
       "185                        3326           1226              36.86         4552  \n",
       "186                        1713            991              57.85         6184  \n",
       "\n",
       "[187 rows x 14 columns]"
      ]
     },
     "execution_count": 147,
     "metadata": {},
     "output_type": "execute_result"
    }
   ],
   "source": [
    "data"
   ]
  },
  {
   "cell_type": "markdown",
   "id": "52307366-e7d2-4b99-8fa0-e45cb144e024",
   "metadata": {},
   "source": [
    "### 19. Calculate Death_Rate for Each Country (Deaths per Total Cases) by suing formula (Desths/Total_cases)*100 and save it in Dath_Rate column"
   ]
  },
  {
   "cell_type": "code",
   "execution_count": 152,
   "id": "d961bc00-a6cf-4fb2-95a1-c56f8c3cdbaf",
   "metadata": {},
   "outputs": [],
   "source": [
    "data['Death_Rate'] = (data.Deaths / data.Total_cases) * 100"
   ]
  },
  {
   "cell_type": "code",
   "execution_count": 154,
   "id": "073df013-9ce7-46c0-9729-47304903186c",
   "metadata": {},
   "outputs": [
    {
     "data": {
      "text/html": [
       "<div>\n",
       "<style scoped>\n",
       "    .dataframe tbody tr th:only-of-type {\n",
       "        vertical-align: middle;\n",
       "    }\n",
       "\n",
       "    .dataframe tbody tr th {\n",
       "        vertical-align: top;\n",
       "    }\n",
       "\n",
       "    .dataframe thead th {\n",
       "        text-align: right;\n",
       "    }\n",
       "</style>\n",
       "<table border=\"1\" class=\"dataframe\">\n",
       "  <thead>\n",
       "    <tr style=\"text-align: right;\">\n",
       "      <th></th>\n",
       "      <th>Country/Region</th>\n",
       "      <th>Deaths</th>\n",
       "      <th>Recovered</th>\n",
       "      <th>Active</th>\n",
       "      <th>New_cases</th>\n",
       "      <th>New_deaths</th>\n",
       "      <th>New_recovered</th>\n",
       "      <th>Deaths_/_100_Cases</th>\n",
       "      <th>Recovered_/_100_Cases</th>\n",
       "      <th>Deaths_/_100_Recovered</th>\n",
       "      <th>Confirmed_last_week</th>\n",
       "      <th>1_week_change</th>\n",
       "      <th>1_week_%_increase</th>\n",
       "      <th>Total_cases</th>\n",
       "      <th>Death_Rate</th>\n",
       "    </tr>\n",
       "    <tr>\n",
       "      <th>Unnamed: 0</th>\n",
       "      <th></th>\n",
       "      <th></th>\n",
       "      <th></th>\n",
       "      <th></th>\n",
       "      <th></th>\n",
       "      <th></th>\n",
       "      <th></th>\n",
       "      <th></th>\n",
       "      <th></th>\n",
       "      <th></th>\n",
       "      <th></th>\n",
       "      <th></th>\n",
       "      <th></th>\n",
       "      <th></th>\n",
       "      <th></th>\n",
       "    </tr>\n",
       "  </thead>\n",
       "  <tbody>\n",
       "    <tr>\n",
       "      <th>0</th>\n",
       "      <td>Afghanistan</td>\n",
       "      <td>1269</td>\n",
       "      <td>25198</td>\n",
       "      <td>9796</td>\n",
       "      <td>106.0</td>\n",
       "      <td>10.0</td>\n",
       "      <td>18</td>\n",
       "      <td>3.50</td>\n",
       "      <td>69.49</td>\n",
       "      <td>5.04</td>\n",
       "      <td>35526</td>\n",
       "      <td>737</td>\n",
       "      <td>2.07</td>\n",
       "      <td>36263</td>\n",
       "      <td>3.499435</td>\n",
       "    </tr>\n",
       "    <tr>\n",
       "      <th>1</th>\n",
       "      <td>Albania</td>\n",
       "      <td>144</td>\n",
       "      <td>2745</td>\n",
       "      <td>1991</td>\n",
       "      <td>117.0</td>\n",
       "      <td>6.0</td>\n",
       "      <td>63</td>\n",
       "      <td>2.95</td>\n",
       "      <td>56.25</td>\n",
       "      <td>5.25</td>\n",
       "      <td>4171</td>\n",
       "      <td>709</td>\n",
       "      <td>17.00</td>\n",
       "      <td>4880</td>\n",
       "      <td>2.950820</td>\n",
       "    </tr>\n",
       "    <tr>\n",
       "      <th>2</th>\n",
       "      <td>Algeria</td>\n",
       "      <td>1163</td>\n",
       "      <td>18837</td>\n",
       "      <td>7973</td>\n",
       "      <td>616.0</td>\n",
       "      <td>8.0</td>\n",
       "      <td>749</td>\n",
       "      <td>4.16</td>\n",
       "      <td>67.34</td>\n",
       "      <td>6.17</td>\n",
       "      <td>23691</td>\n",
       "      <td>4282</td>\n",
       "      <td>18.07</td>\n",
       "      <td>27973</td>\n",
       "      <td>4.157581</td>\n",
       "    </tr>\n",
       "    <tr>\n",
       "      <th>3</th>\n",
       "      <td>Andorra</td>\n",
       "      <td>52</td>\n",
       "      <td>803</td>\n",
       "      <td>52</td>\n",
       "      <td>10.0</td>\n",
       "      <td>0.0</td>\n",
       "      <td>0</td>\n",
       "      <td>5.73</td>\n",
       "      <td>88.53</td>\n",
       "      <td>6.48</td>\n",
       "      <td>884</td>\n",
       "      <td>23</td>\n",
       "      <td>2.60</td>\n",
       "      <td>907</td>\n",
       "      <td>5.733186</td>\n",
       "    </tr>\n",
       "    <tr>\n",
       "      <th>4</th>\n",
       "      <td>Angola</td>\n",
       "      <td>41</td>\n",
       "      <td>242</td>\n",
       "      <td>667</td>\n",
       "      <td>18.0</td>\n",
       "      <td>1.0</td>\n",
       "      <td>0</td>\n",
       "      <td>4.32</td>\n",
       "      <td>25.47</td>\n",
       "      <td>16.94</td>\n",
       "      <td>749</td>\n",
       "      <td>201</td>\n",
       "      <td>26.84</td>\n",
       "      <td>950</td>\n",
       "      <td>4.315789</td>\n",
       "    </tr>\n",
       "  </tbody>\n",
       "</table>\n",
       "</div>"
      ],
      "text/plain": [
       "           Country/Region  Deaths  Recovered  Active  New_cases  New_deaths  \\\n",
       "Unnamed: 0                                                                    \n",
       "0             Afghanistan    1269      25198    9796      106.0        10.0   \n",
       "1                 Albania     144       2745    1991      117.0         6.0   \n",
       "2                 Algeria    1163      18837    7973      616.0         8.0   \n",
       "3                 Andorra      52        803      52       10.0         0.0   \n",
       "4                  Angola      41        242     667       18.0         1.0   \n",
       "\n",
       "            New_recovered  Deaths_/_100_Cases  Recovered_/_100_Cases  \\\n",
       "Unnamed: 0                                                             \n",
       "0                      18                3.50                  69.49   \n",
       "1                      63                2.95                  56.25   \n",
       "2                     749                4.16                  67.34   \n",
       "3                       0                5.73                  88.53   \n",
       "4                       0                4.32                  25.47   \n",
       "\n",
       "            Deaths_/_100_Recovered  Confirmed_last_week  1_week_change  \\\n",
       "Unnamed: 0                                                               \n",
       "0                             5.04                35526            737   \n",
       "1                             5.25                 4171            709   \n",
       "2                             6.17                23691           4282   \n",
       "3                             6.48                  884             23   \n",
       "4                            16.94                  749            201   \n",
       "\n",
       "            1_week_%_increase  Total_cases  Death_Rate  \n",
       "Unnamed: 0                                              \n",
       "0                        2.07        36263    3.499435  \n",
       "1                       17.00         4880    2.950820  \n",
       "2                       18.07        27973    4.157581  \n",
       "3                        2.60          907    5.733186  \n",
       "4                       26.84          950    4.315789  "
      ]
     },
     "execution_count": 154,
     "metadata": {},
     "output_type": "execute_result"
    }
   ],
   "source": [
    "data.head()"
   ]
  },
  {
   "cell_type": "markdown",
   "id": "e5df9170-095d-422a-9645-53de507db02a",
   "metadata": {},
   "source": [
    "### 20. Identify countries where total cases are increasing but death rates remain low."
   ]
  },
  {
   "cell_type": "code",
   "execution_count": 168,
   "id": "c5ad4f99-e0a4-4047-afef-609644c667a6",
   "metadata": {},
   "outputs": [],
   "source": [
    "#new_cases = data[data['New_cases'] > 0]\n",
    "#low_death_rate = new_cases[new_cases['Deaths'] / new_cases['Confirmed'] < 0.01]"
   ]
  },
  {
   "cell_type": "markdown",
   "id": "06bd5f54-4a1c-4901-85d1-41951954c045",
   "metadata": {},
   "source": [
    "### 21. print head of only 2 columns Country/Region and Death_Rate"
   ]
  },
  {
   "cell_type": "code",
   "execution_count": 159,
   "id": "6ce672ae-06a8-4b7c-82ef-ce6251dcd8bf",
   "metadata": {},
   "outputs": [
    {
     "data": {
      "text/html": [
       "<div>\n",
       "<style scoped>\n",
       "    .dataframe tbody tr th:only-of-type {\n",
       "        vertical-align: middle;\n",
       "    }\n",
       "\n",
       "    .dataframe tbody tr th {\n",
       "        vertical-align: top;\n",
       "    }\n",
       "\n",
       "    .dataframe thead th {\n",
       "        text-align: right;\n",
       "    }\n",
       "</style>\n",
       "<table border=\"1\" class=\"dataframe\">\n",
       "  <thead>\n",
       "    <tr style=\"text-align: right;\">\n",
       "      <th></th>\n",
       "      <th>Country/Region</th>\n",
       "      <th>Death_Rate</th>\n",
       "    </tr>\n",
       "    <tr>\n",
       "      <th>Unnamed: 0</th>\n",
       "      <th></th>\n",
       "      <th></th>\n",
       "    </tr>\n",
       "  </thead>\n",
       "  <tbody>\n",
       "    <tr>\n",
       "      <th>0</th>\n",
       "      <td>Afghanistan</td>\n",
       "      <td>3.499435</td>\n",
       "    </tr>\n",
       "    <tr>\n",
       "      <th>1</th>\n",
       "      <td>Albania</td>\n",
       "      <td>2.950820</td>\n",
       "    </tr>\n",
       "    <tr>\n",
       "      <th>2</th>\n",
       "      <td>Algeria</td>\n",
       "      <td>4.157581</td>\n",
       "    </tr>\n",
       "    <tr>\n",
       "      <th>3</th>\n",
       "      <td>Andorra</td>\n",
       "      <td>5.733186</td>\n",
       "    </tr>\n",
       "    <tr>\n",
       "      <th>4</th>\n",
       "      <td>Angola</td>\n",
       "      <td>4.315789</td>\n",
       "    </tr>\n",
       "  </tbody>\n",
       "</table>\n",
       "</div>"
      ],
      "text/plain": [
       "           Country/Region  Death_Rate\n",
       "Unnamed: 0                           \n",
       "0             Afghanistan    3.499435\n",
       "1                 Albania    2.950820\n",
       "2                 Algeria    4.157581\n",
       "3                 Andorra    5.733186\n",
       "4                  Angola    4.315789"
      ]
     },
     "execution_count": 159,
     "metadata": {},
     "output_type": "execute_result"
    }
   ],
   "source": [
    "data[['Country/Region', 'Death_Rate']].head()"
   ]
  },
  {
   "cell_type": "markdown",
   "id": "67989ab0-d45b-4f1c-9779-552ee01cc827",
   "metadata": {},
   "source": [
    "### 22. Create a scatter plot comparing total cases and total deaths."
   ]
  },
  {
   "cell_type": "code",
   "execution_count": 170,
   "id": "442c572d-6d6e-41b8-87ab-2361682cd5ed",
   "metadata": {},
   "outputs": [
    {
     "name": "stderr",
     "output_type": "stream",
     "text": [
      "Matplotlib is building the font cache; this may take a moment.\n"
     ]
    }
   ],
   "source": [
    "import matplotlib.pyplot as plt"
   ]
  },
  {
   "cell_type": "code",
   "execution_count": 180,
   "id": "e98db06a-d737-4eb2-a921-85b50a7e74eb",
   "metadata": {},
   "outputs": [
    {
     "data": {
      "image/png": "[encoded data removed]",
      "text/plain": [
       "<Figure size 1000x600 with 1 Axes>"
      ]
     },
     "metadata": {},
     "output_type": "display_data"
    }
   ],
   "source": [
    "plt.figure(figsize=(10,6))\n",
    "plt.scatter(data['Total_cases'], data['Deaths'], alpha=0.5)\n",
    "plt.xlabel('Total Cases')\n",
    "plt.ylabel('Total Deaths')\n",
    "plt.title('Scatter Plot of Total Cases vs Total Deaths')\n",
    "plt.xscale('log')\n",
    "plt.yscale('log')\n",
    "plt.grid(True)\n",
    "plt.show()"
   ]
  },
  {
   "cell_type": "markdown",
   "id": "cef55f13-2c7e-4579-9f4f-82b39e052f7e",
   "metadata": {},
   "source": [
    "### 23. Save dataset in CSV format."
   ]
  },
  {
   "cell_type": "code",
   "execution_count": 182,
   "id": "49eed007-8ba6-48ae-aeae-5de8f3cd6365",
   "metadata": {},
   "outputs": [
    {
     "name": "stdout",
     "output_type": "stream",
     "text": [
      "Dataset saved as cleaned_data.csv\n"
     ]
    }
   ],
   "source": [
    "data.to_csv('cleaned_data.csv', index=False)\n",
    "print(f\"Dataset saved as cleaned_data.csv\")"
   ]
  },
  {
   "cell_type": "code",
   "execution_count": null,
   "id": "622c3bd5-61c5-4f1d-ab4f-1f9fbe90ddbe",
   "metadata": {},
   "outputs": [],
   "source": []
  }
 ],
 "metadata": {
  "kernelspec": {
   "display_name": "Python 3 (ipykernel)",
   "language": "python",
   "name": "python3"
  },
  "language_info": {
   "codemirror_mode": {
    "name": "ipython",
    "version": 3
   },
   "file_extension": ".py",
   "mimetype": "text/x-python",
   "name": "python",
   "nbconvert_exporter": "python",
   "pygments_lexer": "ipython3",
   "version": "3.12.7"
  }
 },
 "nbformat": 4,
 "nbformat_minor": 5
}

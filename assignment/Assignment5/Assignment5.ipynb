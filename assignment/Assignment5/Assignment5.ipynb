{
 "cells": [
  {
   "cell_type": "code",
   "execution_count": 1,
   "id": "c23b4d64-a64d-45d2-88ad-516fb84c754c",
   "metadata": {},
   "outputs": [],
   "source": [
    "import pandas as pd"
   ]
  },
  {
   "cell_type": "code",
   "execution_count": 6,
   "id": "2f8fc9aa-4e3f-4239-9199-08748706cf19",
   "metadata": {},
   "outputs": [],
   "source": [
    "data = pd.read_csv(\"country_data.csv\")"
   ]
  },
  {
   "cell_type": "code",
   "execution_count": 7,
   "id": "c3f7dac5-ce53-4c61-8125-f932fcb7c0c9",
   "metadata": {},
   "outputs": [
    {
     "data": {
      "text/html": [
       "<div>\n",
       "<style scoped>\n",
       "    .dataframe tbody tr th:only-of-type {\n",
       "        vertical-align: middle;\n",
       "    }\n",
       "\n",
       "    .dataframe tbody tr th {\n",
       "        vertical-align: top;\n",
       "    }\n",
       "\n",
       "    .dataframe thead th {\n",
       "        text-align: right;\n",
       "    }\n",
       "</style>\n",
       "<table border=\"1\" class=\"dataframe\">\n",
       "  <thead>\n",
       "    <tr style=\"text-align: right;\">\n",
       "      <th></th>\n",
       "      <th>Country</th>\n",
       "      <th>Life Expectancy</th>\n",
       "      <th>GDP</th>\n",
       "    </tr>\n",
       "  </thead>\n",
       "  <tbody>\n",
       "    <tr>\n",
       "      <th>0</th>\n",
       "      <td>Afghanistan</td>\n",
       "      <td>58.19375</td>\n",
       "      <td>340.015425</td>\n",
       "    </tr>\n",
       "    <tr>\n",
       "      <th>1</th>\n",
       "      <td>Albania</td>\n",
       "      <td>75.15625</td>\n",
       "      <td>2119.726679</td>\n",
       "    </tr>\n",
       "    <tr>\n",
       "      <th>2</th>\n",
       "      <td>Algeria</td>\n",
       "      <td>73.61875</td>\n",
       "      <td>2847.853392</td>\n",
       "    </tr>\n",
       "    <tr>\n",
       "      <th>3</th>\n",
       "      <td>Angola</td>\n",
       "      <td>49.01875</td>\n",
       "      <td>1975.143045</td>\n",
       "    </tr>\n",
       "    <tr>\n",
       "      <th>4</th>\n",
       "      <td>Antigua and Barbuda</td>\n",
       "      <td>75.05625</td>\n",
       "      <td>9759.305728</td>\n",
       "    </tr>\n",
       "    <tr>\n",
       "      <th>...</th>\n",
       "      <td>...</td>\n",
       "      <td>...</td>\n",
       "      <td>...</td>\n",
       "    </tr>\n",
       "    <tr>\n",
       "      <th>153</th>\n",
       "      <td>Uruguay</td>\n",
       "      <td>76.07500</td>\n",
       "      <td>7192.584875</td>\n",
       "    </tr>\n",
       "    <tr>\n",
       "      <th>154</th>\n",
       "      <td>Uzbekistan</td>\n",
       "      <td>68.03125</td>\n",
       "      <td>651.092359</td>\n",
       "    </tr>\n",
       "    <tr>\n",
       "      <th>155</th>\n",
       "      <td>Vanuatu</td>\n",
       "      <td>71.38750</td>\n",
       "      <td>2000.245518</td>\n",
       "    </tr>\n",
       "    <tr>\n",
       "      <th>156</th>\n",
       "      <td>Zambia</td>\n",
       "      <td>53.90625</td>\n",
       "      <td>811.811841</td>\n",
       "    </tr>\n",
       "    <tr>\n",
       "      <th>157</th>\n",
       "      <td>Zimbabwe</td>\n",
       "      <td>50.48750</td>\n",
       "      <td>410.980194</td>\n",
       "    </tr>\n",
       "  </tbody>\n",
       "</table>\n",
       "<p>158 rows × 3 columns</p>\n",
       "</div>"
      ],
      "text/plain": [
       "                 Country  Life Expectancy          GDP\n",
       "0            Afghanistan         58.19375   340.015425\n",
       "1                Albania         75.15625  2119.726679\n",
       "2                Algeria         73.61875  2847.853392\n",
       "3                 Angola         49.01875  1975.143045\n",
       "4    Antigua and Barbuda         75.05625  9759.305728\n",
       "..                   ...              ...          ...\n",
       "153              Uruguay         76.07500  7192.584875\n",
       "154           Uzbekistan         68.03125   651.092359\n",
       "155              Vanuatu         71.38750  2000.245518\n",
       "156               Zambia         53.90625   811.811841\n",
       "157             Zimbabwe         50.48750   410.980194\n",
       "\n",
       "[158 rows x 3 columns]"
      ]
     },
     "execution_count": 7,
     "metadata": {},
     "output_type": "execute_result"
    }
   ],
   "source": [
    "data"
   ]
  },
  {
   "cell_type": "code",
   "execution_count": 8,
   "id": "d345c8dd-df52-4d02-b38c-7ded29ad72c6",
   "metadata": {},
   "outputs": [
    {
     "data": {
      "text/html": [
       "<div>\n",
       "<style scoped>\n",
       "    .dataframe tbody tr th:only-of-type {\n",
       "        vertical-align: middle;\n",
       "    }\n",
       "\n",
       "    .dataframe tbody tr th {\n",
       "        vertical-align: top;\n",
       "    }\n",
       "\n",
       "    .dataframe thead th {\n",
       "        text-align: right;\n",
       "    }\n",
       "</style>\n",
       "<table border=\"1\" class=\"dataframe\">\n",
       "  <thead>\n",
       "    <tr style=\"text-align: right;\">\n",
       "      <th></th>\n",
       "      <th>Country</th>\n",
       "      <th>Life Expectancy</th>\n",
       "      <th>GDP</th>\n",
       "    </tr>\n",
       "  </thead>\n",
       "  <tbody>\n",
       "    <tr>\n",
       "      <th>0</th>\n",
       "      <td>Afghanistan</td>\n",
       "      <td>58.19375</td>\n",
       "      <td>340.015425</td>\n",
       "    </tr>\n",
       "    <tr>\n",
       "      <th>1</th>\n",
       "      <td>Albania</td>\n",
       "      <td>75.15625</td>\n",
       "      <td>2119.726679</td>\n",
       "    </tr>\n",
       "    <tr>\n",
       "      <th>2</th>\n",
       "      <td>Algeria</td>\n",
       "      <td>73.61875</td>\n",
       "      <td>2847.853392</td>\n",
       "    </tr>\n",
       "    <tr>\n",
       "      <th>3</th>\n",
       "      <td>Angola</td>\n",
       "      <td>49.01875</td>\n",
       "      <td>1975.143045</td>\n",
       "    </tr>\n",
       "    <tr>\n",
       "      <th>4</th>\n",
       "      <td>Antigua and Barbuda</td>\n",
       "      <td>75.05625</td>\n",
       "      <td>9759.305728</td>\n",
       "    </tr>\n",
       "  </tbody>\n",
       "</table>\n",
       "</div>"
      ],
      "text/plain": [
       "               Country  Life Expectancy          GDP\n",
       "0          Afghanistan         58.19375   340.015425\n",
       "1              Albania         75.15625  2119.726679\n",
       "2              Algeria         73.61875  2847.853392\n",
       "3               Angola         49.01875  1975.143045\n",
       "4  Antigua and Barbuda         75.05625  9759.305728"
      ]
     },
     "execution_count": 8,
     "metadata": {},
     "output_type": "execute_result"
    }
   ],
   "source": [
    "data.head()"
   ]
  },
  {
   "cell_type": "code",
   "execution_count": 9,
   "id": "f1294c2b-7a21-4e33-a090-b213cfe6e865",
   "metadata": {},
   "outputs": [
    {
     "data": {
      "text/plain": [
       "0      58.19375\n",
       "1      75.15625\n",
       "2      73.61875\n",
       "3      49.01875\n",
       "4      75.05625\n",
       "         ...   \n",
       "153    76.07500\n",
       "154    68.03125\n",
       "155    71.38750\n",
       "156    53.90625\n",
       "157    50.48750\n",
       "Name: Life Expectancy, Length: 158, dtype: float64"
      ]
     },
     "execution_count": 9,
     "metadata": {},
     "output_type": "execute_result"
    }
   ],
   "source": [
    "life_expectancy = data['Life Expectancy']\n",
    "life_expectancy"
   ]
  },
  {
   "cell_type": "code",
   "execution_count": 17,
   "id": "ea60c974-f1bd-4b1b-80f9-d10bf89c6d3b",
   "metadata": {},
   "outputs": [],
   "source": [
    "import numpy as np\n",
    "import matplotlib.pyplot as plt"
   ]
  },
  {
   "cell_type": "code",
   "execution_count": 14,
   "id": "850206e4-e5aa-4c53-8579-2339c3241a8c",
   "metadata": {},
   "outputs": [],
   "source": [
    "# Quantiles help us understand data distribution, spread, and outliers.\n",
    "# They're the backbone of boxplots, too!"
   ]
  },
  {
   "cell_type": "code",
   "execution_count": 15,
   "id": "78b91ba7-9eed-4e65-a0f5-64219f42b438",
   "metadata": {},
   "outputs": [
    {
     "name": "stdout",
     "output_type": "stream",
     "text": [
      "Quartiles of Life Expectancy: [62.325     72.525     75.4421875]\n"
     ]
    }
   ],
   "source": [
    "life_expectancy_quartiles = np.quantile(life_expectancy,[0.25, 0.5, 0.75])\n",
    "print(f\"Quartiles of Life Expectancy: {life_expectancy_quartiles}\")"
   ]
  },
  {
   "cell_type": "code",
   "execution_count": 19,
   "id": "1c14e79e-1127-4c56-ba56-64bfd1d007f7",
   "metadata": {},
   "outputs": [
    {
     "data": {
      "image/png": "[encoded data removed]",
      "text/plain": [
       "<Figure size 640x480 with 1 Axes>"
      ]
     },
     "metadata": {},
     "output_type": "display_data"
    }
   ],
   "source": [
    "# Plot a boxplot\n",
    "plt.boxplot(life_expectancy)\n",
    "plt.title(\"Life Expectancy - Boxplot\")\n",
    "plt.xlabel(\"Years\")\n",
    "plt.grid(True)\n",
    "plt.show()"
   ]
  },
  {
   "cell_type": "code",
   "execution_count": 20,
   "id": "e20f8a41-99ba-4182-a793-87520445f9dc",
   "metadata": {},
   "outputs": [
    {
     "data": {
      "image/png": "[encoded data removed]",
      "text/plain": [
       "<Figure size 640x480 with 1 Axes>"
      ]
     },
     "metadata": {},
     "output_type": "display_data"
    }
   ],
   "source": [
    "plt.hist(life_expectancy)\n",
    "plt.show()"
   ]
  },
  {
   "cell_type": "code",
   "execution_count": null,
   "id": "a548616e-1c7a-4510-8f45-9578ed8eaf1c",
   "metadata": {},
   "outputs": [],
   "source": []
  }
 ],
 "metadata": {
  "kernelspec": {
   "display_name": "Python 3 (ipykernel)",
   "language": "python",
   "name": "python3"
  },
  "language_info": {
   "codemirror_mode": {
    "name": "ipython",
    "version": 3
   },
   "file_extension": ".py",
   "mimetype": "text/x-python",
   "name": "python",
   "nbconvert_exporter": "python",
   "pygments_lexer": "ipython3",
   "version": "3.12.7"
  }
 },
 "nbformat": 4,
 "nbformat_minor": 5
}

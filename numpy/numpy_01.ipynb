{
 "cells": [
  {
   "cell_type": "markdown",
   "id": "98cf8c96-c2d7-4d2d-ba10-cb2e1ebbc107",
   "metadata": {},
   "source": [
    "# Numpy\n",
    "NumPy is a Python library used for working with arrays.\n",
    "\n",
    "NumPy stands for Numerical Python.\n",
    "\n",
    "---\n",
    "### Why is NumPy Faster Than Lists?\n",
    "NumPy arrays are stored at one continuous place in memory unlike lists, so processes can access and manipulate them very efficiently.\n",
    "\n",
    "This behavior is called locality of reference in computer science.\n",
    "\n",
    "This is the main reason why NumPy is faster than lists. Also it is optimized to work with latest CPU architectures.\n",
    "\n",
    "---\n",
    "### Which Language is NumPy written in?\n",
    "NumPy is a Python library and is written partially in Python, but most of the parts that require fast computation are written in C or C++."
   ]
  },
  {
   "cell_type": "code",
   "execution_count": 2,
   "id": "18429818-93f6-4628-81cd-bbe657c80aa0",
   "metadata": {},
   "outputs": [],
   "source": [
    "# Import NumPy\n",
    "# make alias with as to short numpy to np\n",
    "import numpy as np"
   ]
  },
  {
   "cell_type": "code",
   "execution_count": 3,
   "id": "6f5e03c8-f7a1-42a4-b4f2-bd82074d7054",
   "metadata": {},
   "outputs": [
    {
     "name": "stdout",
     "output_type": "stream",
     "text": [
      "[1 2 3 4 5]\n"
     ]
    }
   ],
   "source": [
    "# Now NumPy is imported and ready to use.\n",
    "arr = np.array([1, 2, 3, 4, 5])\n",
    "print(arr)"
   ]
  },
  {
   "cell_type": "code",
   "execution_count": 4,
   "id": "821e8f79-b965-450b-b89f-29d92c0fa0d5",
   "metadata": {},
   "outputs": [
    {
     "name": "stdout",
     "output_type": "stream",
     "text": [
      "1.26.4\n"
     ]
    }
   ],
   "source": [
    "# Checking NumPy Version\n",
    "print(np.__version__)"
   ]
  },
  {
   "cell_type": "markdown",
   "id": "3729545b-ecc0-406d-a4b0-c07e7c5ee565",
   "metadata": {},
   "source": [
    "#### Create a NumPy ndarray Object\n",
    "NumPy is used to work with arrays. The array object in NumPy is called ndarray.\n",
    "\n",
    "We can create a NumPy ndarray object by using the __array()__ function. \n",
    "\n",
    "To create an __ndarray__, we can pass a _list_, _tuple_ or any array-like object into the __array()__ method, and it will be converted into an _ndarray_"
   ]
  },
  {
   "cell_type": "code",
   "execution_count": 9,
   "id": "73ed24f9-b32b-4cf9-b325-7f814a1ef72b",
   "metadata": {},
   "outputs": [
    {
     "data": {
      "text/plain": [
       "array([1, 2, 3, 4, 5, 6, 7, 8, 9, 0])"
      ]
     },
     "execution_count": 9,
     "metadata": {},
     "output_type": "execute_result"
    }
   ],
   "source": [
    "np.array([1,2,3,4,5,6,7,8,9,0])"
   ]
  },
  {
   "cell_type": "code",
   "execution_count": 11,
   "id": "4ae1f045-df5b-42f2-afb0-95541d2dca66",
   "metadata": {},
   "outputs": [
    {
     "data": {
      "text/plain": [
       "array([1, 2, 3, 4, 5, 6, 7, 8, 9, 0])"
      ]
     },
     "execution_count": 11,
     "metadata": {},
     "output_type": "execute_result"
    }
   ],
   "source": [
    "np.array((1,2,3,4,5,6,7,8,9,0))"
   ]
  },
  {
   "cell_type": "markdown",
   "id": "c1c0a171-7475-4a8b-b441-71b9c962b286",
   "metadata": {},
   "source": [
    "#### 0-D Arrays\n",
    "0-D arrays, or __Scalars__, are the elements in an array. Each value in an array is a 0-D array."
   ]
  },
  {
   "cell_type": "code",
   "execution_count": 14,
   "id": "1866461c-823d-4abc-a3df-4f897d482ed0",
   "metadata": {},
   "outputs": [
    {
     "name": "stdout",
     "output_type": "stream",
     "text": [
      "42\n"
     ]
    }
   ],
   "source": [
    "arr = np.array(42)\n",
    "print(arr)"
   ]
  },
  {
   "cell_type": "markdown",
   "id": "5eb96e33-666f-46be-b5c7-1f64a21b8598",
   "metadata": {},
   "source": [
    "#### 1-D Arrays\n",
    "An array that has 0-D arrays as its elements is called __uni-dimensional__ or _1-D array_.\n",
    "\n",
    "These are the most common and basic arrays."
   ]
  },
  {
   "cell_type": "code",
   "execution_count": 17,
   "id": "185e5303-cb9c-40be-bdaf-1bf894223a8b",
   "metadata": {},
   "outputs": [
    {
     "name": "stdout",
     "output_type": "stream",
     "text": [
      "[1 2 3 4 5]\n"
     ]
    }
   ],
   "source": [
    "arr = np.array([1, 2, 3, 4, 5])\n",
    "print(arr)"
   ]
  },
  {
   "cell_type": "markdown",
   "id": "c792b93a-cf33-4cf5-8c38-42babe5ac7b4",
   "metadata": {},
   "source": [
    "#### 2-D Arrays\n",
    "An array that has 1-D arrays as its elements is called a __2-D array__.\n",
    "\n",
    "These are often used to represent __matrix__ or __2nd order tensors__."
   ]
  },
  {
   "cell_type": "code",
   "execution_count": 20,
   "id": "61a144d8-a5eb-49ff-9bdd-e4a5b39c91f5",
   "metadata": {},
   "outputs": [
    {
     "name": "stdout",
     "output_type": "stream",
     "text": [
      "[[1 2 3]\n",
      " [4 5 6]]\n"
     ]
    }
   ],
   "source": [
    "arr = np.array([[1, 2, 3], [4, 5, 6]])\n",
    "print(arr)"
   ]
  },
  {
   "cell_type": "markdown",
   "id": "830f713e-228b-4f19-8b8b-3f3a5b50f756",
   "metadata": {},
   "source": [
    "#### 3-D arrays\n",
    "An array that has 2-D arrays (matrices) as its elements is called __3-D array__.\n",
    "\n",
    "These are often used to represent a __3rd order tensor__."
   ]
  },
  {
   "cell_type": "code",
   "execution_count": 23,
   "id": "8a0cf063-596b-4f13-bd1a-8298d3e5614a",
   "metadata": {},
   "outputs": [
    {
     "name": "stdout",
     "output_type": "stream",
     "text": [
      "[[[1 2 3]\n",
      "  [4 5 6]]\n",
      "\n",
      " [[1 2 3]\n",
      "  [4 5 6]]]\n"
     ]
    }
   ],
   "source": [
    "arr = np.array([\n",
    "    [\n",
    "        [1, 2, 3], \n",
    "        [4, 5, 6]\n",
    "    ], \n",
    "    [\n",
    "        [1, 2, 3], \n",
    "        [4, 5, 6]\n",
    "    ]\n",
    "])\n",
    "print(arr)"
   ]
  },
  {
   "cell_type": "code",
   "execution_count": 25,
   "id": "25d1ea79-85a0-475f-ae58-16325071d376",
   "metadata": {},
   "outputs": [
    {
     "name": "stdout",
     "output_type": "stream",
     "text": [
      "0\n",
      "1\n",
      "2\n",
      "3\n"
     ]
    }
   ],
   "source": [
    "# Check Number of Dimensions?\n",
    "# NumPy Arrays provides the ndim attribute that returns an integer that tells us how many dimensions the array have.\n",
    "\n",
    "a = np.array(42)\n",
    "b = np.array([1, 2, 3, 4, 5])\n",
    "c = np.array([[1, 2, 3], [4, 5, 6]])\n",
    "d = np.array([[[1, 2, 3], [4, 5, 6]], [[1, 2, 3], [4, 5, 6]]])\n",
    "\n",
    "print(a.ndim)\n",
    "print(b.ndim)\n",
    "print(c.ndim)\n",
    "print(d.ndim)"
   ]
  },
  {
   "cell_type": "code",
   "execution_count": 27,
   "id": "1bf575d5-387f-4a37-8852-7f984563c814",
   "metadata": {},
   "outputs": [
    {
     "name": "stdout",
     "output_type": "stream",
     "text": [
      "[[[[[1 2 3 4]]]]]\n",
      "number of dimensions : 5\n"
     ]
    }
   ],
   "source": [
    "# Higher Dimensional Arrays\n",
    "# An array can have any number of dimensions.\n",
    "# When the array is created, you can define the number of dimensions by using the ndmin argument.\n",
    "\n",
    "arr = np.array([1, 2, 3, 4], ndmin=5)\n",
    "print(arr)\n",
    "print('number of dimensions :', arr.ndim)"
   ]
  },
  {
   "cell_type": "markdown",
   "id": "ca768191-5eee-4a83-9cd5-5368eb36d62f",
   "metadata": {},
   "source": [
    "### Access Array Elements"
   ]
  },
  {
   "cell_type": "code",
   "execution_count": 30,
   "id": "f71e92cc-c445-4e3b-b0d7-e26b52ab7d9d",
   "metadata": {},
   "outputs": [
    {
     "name": "stdout",
     "output_type": "stream",
     "text": [
      "1\n"
     ]
    }
   ],
   "source": [
    "# Access Array Elements\n",
    "# Array indexing is the same as accessing an array element.\n",
    "# You can access an array element by referring to its index number.\n",
    "\n",
    "arr = np.array([1, 2, 3, 4])\n",
    "print(arr[0])"
   ]
  },
  {
   "cell_type": "code",
   "execution_count": 32,
   "id": "188c1e43-d482-4444-ac42-4d581e49e883",
   "metadata": {},
   "outputs": [
    {
     "name": "stdout",
     "output_type": "stream",
     "text": [
      "7\n"
     ]
    }
   ],
   "source": [
    "arr = np.array([1, 2, 3, 4])\n",
    "\n",
    "print(arr[2] + arr[3])"
   ]
  },
  {
   "cell_type": "code",
   "execution_count": 34,
   "id": "421451bc-75a9-4923-93f0-5dd409d9f884",
   "metadata": {},
   "outputs": [
    {
     "name": "stdout",
     "output_type": "stream",
     "text": [
      "5th element on 2nd row:  10\n"
     ]
    }
   ],
   "source": [
    "# Access 2-D Arrays\n",
    "# To access elements from 2-D arrays we can use comma separated integers representing the dimension and the index of the element.\n",
    "# Think of 2-D arrays like a table with rows and columns, where the dimension represents the row and the index represents the column.\n",
    "\n",
    "arr = np.array([[1,2,3,4,5], [6,7,8,9,10]])\n",
    "\n",
    "print('5th element on 2nd row: ', arr[1, 4])"
   ]
  },
  {
   "cell_type": "code",
   "execution_count": 36,
   "id": "09cfbbbc-6339-488d-8b21-40ffab9bfd68",
   "metadata": {},
   "outputs": [
    {
     "name": "stdout",
     "output_type": "stream",
     "text": [
      "[[[ 1  2  3]\n",
      "  [ 4  5  6]]\n",
      "\n",
      " [[ 7  8  9]\n",
      "  [10 11 12]]]\n",
      "6\n"
     ]
    }
   ],
   "source": [
    "# Access 3-D Arrays\n",
    "# To access elements from 3-D arrays we can use comma separated integers representing the dimensions and the index of the element.\n",
    "\n",
    "arr = np.array([[[1, 2, 3], [4, 5, 6]], [[7, 8, 9], [10, 11, 12]]])\n",
    "print(arr)\n",
    "print(arr[0, 1, 2])"
   ]
  },
  {
   "cell_type": "code",
   "execution_count": 38,
   "id": "d90fd6b5-97cf-42cb-9059-be23f08c08fb",
   "metadata": {},
   "outputs": [
    {
     "name": "stdout",
     "output_type": "stream",
     "text": [
      "Last element from 2nd dim:  10\n"
     ]
    }
   ],
   "source": [
    "# Negative Indexing\n",
    "# Use negative indexing to access an array from the end.\n",
    "import numpy as np\n",
    "\n",
    "arr = np.array([[1,2,3,4,5], [6,7,8,9,10]])\n",
    "\n",
    "print('Last element from 2nd dim: ', arr[1, -1])"
   ]
  },
  {
   "cell_type": "markdown",
   "id": "d35e63cf-c4c3-4864-b28a-e6981cc720f1",
   "metadata": {},
   "source": [
    "### NumPy Array Slicing"
   ]
  },
  {
   "cell_type": "markdown",
   "id": "7a2cc86f-7067-4c32-b9b5-00dea42e18fb",
   "metadata": {},
   "source": [
    "#### Slicing arrays\n",
    "Slicing in python means taking elements from one given index to another given index.\n",
    "\n",
    "We pass slice instead of index like this: __[start:end]__.\n",
    "\n",
    "We can also define the step, like this: __[start:end:step]__.\n",
    "\n",
    "If we don't pass start its considered __0__\n",
    "\n",
    "If we don't pass end its considered __length of array__ in that dimension\n",
    "\n",
    "If we don't pass step its considered __1__"
   ]
  },
  {
   "cell_type": "code",
   "execution_count": 42,
   "id": "d68d0405-1f01-4711-a2c0-2b65f6c233aa",
   "metadata": {},
   "outputs": [
    {
     "name": "stdout",
     "output_type": "stream",
     "text": [
      "[2 3 4 5]\n"
     ]
    }
   ],
   "source": [
    "arr = np.array([1, 2, 3, 4, 5, 6, 7])\n",
    "print(arr[1:5])"
   ]
  },
  {
   "cell_type": "code",
   "execution_count": 44,
   "id": "73d49411-c3d8-4d74-bc25-bea590368cb0",
   "metadata": {},
   "outputs": [
    {
     "name": "stdout",
     "output_type": "stream",
     "text": [
      "[5 6 7]\n"
     ]
    }
   ],
   "source": [
    "# Slice elements from index 4 to the end of the array:\n",
    "arr = np.array([1, 2, 3, 4, 5, 6, 7])\n",
    "print(arr[4:])"
   ]
  },
  {
   "cell_type": "code",
   "execution_count": 46,
   "id": "13609104-c332-4fa2-aa0c-480dc28124d4",
   "metadata": {},
   "outputs": [
    {
     "name": "stdout",
     "output_type": "stream",
     "text": [
      "[1 2 3 4]\n"
     ]
    }
   ],
   "source": [
    "# Slice elements from the beginning to index 4 (not included):\n",
    "arr = np.array([1, 2, 3, 4, 5, 6, 7])\n",
    "print(arr[:4])"
   ]
  },
  {
   "cell_type": "markdown",
   "id": "65532460-8645-4bf3-93ed-b09322fe53f3",
   "metadata": {},
   "source": [
    "#### Negative Slicing"
   ]
  },
  {
   "cell_type": "code",
   "execution_count": 49,
   "id": "45e4f282-6c63-4b2b-9865-8b8615e77c04",
   "metadata": {},
   "outputs": [
    {
     "name": "stdout",
     "output_type": "stream",
     "text": [
      "[5 6]\n"
     ]
    }
   ],
   "source": [
    "# Slice from the index 3 from the end to index 1 from the end:\n",
    "arr = np.array([1, 2, 3, 4, 5, 6, 7])\n",
    "print(arr[-3:-1])"
   ]
  },
  {
   "cell_type": "markdown",
   "id": "fff2d7f9-5a89-4901-a6ca-b7ce7a9561a0",
   "metadata": {},
   "source": [
    "#### Step\n",
    "Use the step value to determine the step of the slicing:"
   ]
  },
  {
   "cell_type": "code",
   "execution_count": 52,
   "id": "af1c03be-1017-494f-8805-f89a3643d6bf",
   "metadata": {},
   "outputs": [
    {
     "name": "stdout",
     "output_type": "stream",
     "text": [
      "[2 4]\n"
     ]
    }
   ],
   "source": [
    "# Return every other element from index 1 to index 5:\n",
    "arr = np.array([1, 2, 3, 4, 5, 6, 7])\n",
    "print(arr[1:5:2])"
   ]
  },
  {
   "cell_type": "code",
   "execution_count": 54,
   "id": "b4f21838-2632-44b6-a282-9a8c285a8816",
   "metadata": {},
   "outputs": [
    {
     "name": "stdout",
     "output_type": "stream",
     "text": [
      "[1 3 5 7]\n"
     ]
    }
   ],
   "source": [
    "# Return every other element from the entire array:\n",
    "arr = np.array([1, 2, 3, 4, 5, 6, 7])\n",
    "print(arr[::2])"
   ]
  },
  {
   "cell_type": "code",
   "execution_count": 56,
   "id": "59ce7731-6d51-4006-b940-a8c78a706c07",
   "metadata": {},
   "outputs": [
    {
     "name": "stdout",
     "output_type": "stream",
     "text": [
      "[7 6 5 4 3 2 1]\n"
     ]
    }
   ],
   "source": [
    "arr = np.array([1, 2, 3, 4, 5, 6, 7])\n",
    "print(arr[::-1])"
   ]
  },
  {
   "cell_type": "markdown",
   "id": "079c419a-54af-4a1b-8866-6db104e3004d",
   "metadata": {},
   "source": [
    "#### Slicing 2-D Arrays"
   ]
  },
  {
   "cell_type": "code",
   "execution_count": 59,
   "id": "3de0db9e-a26d-4ce9-9e05-c08ba3152bfe",
   "metadata": {},
   "outputs": [
    {
     "name": "stdout",
     "output_type": "stream",
     "text": [
      "[7 8 9]\n"
     ]
    }
   ],
   "source": [
    "# From the second element, slice elements from index 1 to index 4 (not included):\n",
    "arr = np.array([[1, 2, 3, 4, 5], [6, 7, 8, 9, 10]])\n",
    "print(arr[1, 1:4])"
   ]
  },
  {
   "cell_type": "code",
   "execution_count": 61,
   "id": "e0c9c97d-de46-4cf0-88c6-591de2092bce",
   "metadata": {},
   "outputs": [
    {
     "name": "stdout",
     "output_type": "stream",
     "text": [
      "[3 8]\n"
     ]
    }
   ],
   "source": [
    "# From both elements, return index 2:\n",
    "arr = np.array([[1, 2, 3, 4, 5], [6, 7, 8, 9, 10]])\n",
    "\n",
    "print(arr[0:2, 2])"
   ]
  },
  {
   "cell_type": "code",
   "execution_count": 63,
   "id": "b95ef067-ad07-4d42-b002-c349442cd534",
   "metadata": {},
   "outputs": [
    {
     "name": "stdout",
     "output_type": "stream",
     "text": [
      "[[2 3 4]\n",
      " [7 8 9]]\n"
     ]
    }
   ],
   "source": [
    "# From both elements, slice index 1 to index 4 (not included), this will return a 2-D array:\n",
    "arr = np.array([[1, 2, 3, 4, 5], [6, 7, 8, 9, 10]])\n",
    "\n",
    "print(arr[0:2, 1:4])"
   ]
  },
  {
   "cell_type": "code",
   "execution_count": null,
   "id": "5dc43ac9-bb6e-46d9-8b88-79cf63eeaf2c",
   "metadata": {},
   "outputs": [],
   "source": []
  }
 ],
 "metadata": {
  "kernelspec": {
   "display_name": "Python 3 (ipykernel)",
   "language": "python",
   "name": "python3"
  },
  "language_info": {
   "codemirror_mode": {
    "name": "ipython",
    "version": 3
   },
   "file_extension": ".py",
   "mimetype": "text/x-python",
   "name": "python",
   "nbconvert_exporter": "python",
   "pygments_lexer": "ipython3",
   "version": "3.12.7"
  }
 },
 "nbformat": 4,
 "nbformat_minor": 5
}

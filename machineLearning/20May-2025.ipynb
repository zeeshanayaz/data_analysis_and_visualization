{
 "cells": [
  {
   "cell_type": "markdown",
   "id": "67ed8abf-927f-4764-a442-000dbeab317d",
   "metadata": {},
   "source": [
    "Hyper Paramter  Jo ham pass karen\n",
    "\n",
    "Parameters: Model k weights"
   ]
  },
  {
   "cell_type": "code",
   "execution_count": null,
   "id": "7d00ca79-75ab-46e4-a789-398b3adc7945",
   "metadata": {},
   "outputs": [],
   "source": []
  }
 ],
 "metadata": {
  "kernelspec": {
   "display_name": "Python 3 (ipykernel)",
   "language": "python",
   "name": "python3"
  },
  "language_info": {
   "codemirror_mode": {
    "name": "ipython",
    "version": 3
   },
   "file_extension": ".py",
   "mimetype": "text/x-python",
   "name": "python",
   "nbconvert_exporter": "python",
   "pygments_lexer": "ipython3",
   "version": "3.12.7"
  }
 },
 "nbformat": 4,
 "nbformat_minor": 5
}
